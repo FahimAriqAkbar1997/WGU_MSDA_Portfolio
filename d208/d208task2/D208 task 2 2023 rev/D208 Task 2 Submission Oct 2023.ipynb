{
 "cells": [
  {
   "cell_type": "code",
   "execution_count": 1,
   "id": "114415df",
   "metadata": {},
   "outputs": [
    {
     "name": "stdout",
     "output_type": "stream",
     "text": [
      "<class 'pandas.core.frame.DataFrame'>\n",
      "RangeIndex: 10000 entries, 0 to 9999\n",
      "Data columns (total 50 columns):\n",
      " #   Column              Non-Null Count  Dtype  \n",
      "---  ------              --------------  -----  \n",
      " 0   CaseOrder           10000 non-null  int64  \n",
      " 1   Customer_id         10000 non-null  object \n",
      " 2   Interaction         10000 non-null  object \n",
      " 3   UID                 10000 non-null  object \n",
      " 4   City                10000 non-null  object \n",
      " 5   State               10000 non-null  object \n",
      " 6   County              10000 non-null  object \n",
      " 7   Zip                 10000 non-null  int64  \n",
      " 8   Lat                 10000 non-null  float64\n",
      " 9   Lng                 10000 non-null  float64\n",
      " 10  Population          10000 non-null  int64  \n",
      " 11  Area                10000 non-null  object \n",
      " 12  TimeZone            10000 non-null  object \n",
      " 13  Job                 10000 non-null  object \n",
      " 14  Children            10000 non-null  int64  \n",
      " 15  Age                 10000 non-null  int64  \n",
      " 16  Income              10000 non-null  float64\n",
      " 17  Marital             10000 non-null  object \n",
      " 18  Gender              10000 non-null  object \n",
      " 19  ReAdmis             10000 non-null  object \n",
      " 20  VitD_levels         10000 non-null  float64\n",
      " 21  Doc_visits          10000 non-null  int64  \n",
      " 22  Full_meals_eaten    10000 non-null  int64  \n",
      " 23  vitD_supp           10000 non-null  int64  \n",
      " 24  Soft_drink          10000 non-null  object \n",
      " 25  Initial_admin       10000 non-null  object \n",
      " 26  HighBlood           10000 non-null  object \n",
      " 27  Stroke              10000 non-null  object \n",
      " 28  Complication_risk   10000 non-null  object \n",
      " 29  Overweight          10000 non-null  object \n",
      " 30  Arthritis           10000 non-null  object \n",
      " 31  Diabetes            10000 non-null  object \n",
      " 32  Hyperlipidemia      10000 non-null  object \n",
      " 33  BackPain            10000 non-null  object \n",
      " 34  Anxiety             10000 non-null  object \n",
      " 35  Allergic_rhinitis   10000 non-null  object \n",
      " 36  Reflux_esophagitis  10000 non-null  object \n",
      " 37  Asthma              10000 non-null  object \n",
      " 38  Services            10000 non-null  object \n",
      " 39  Initial_days        10000 non-null  float64\n",
      " 40  TotalCharge         10000 non-null  float64\n",
      " 41  Additional_charges  10000 non-null  float64\n",
      " 42  Item1               10000 non-null  int64  \n",
      " 43  Item2               10000 non-null  int64  \n",
      " 44  Item3               10000 non-null  int64  \n",
      " 45  Item4               10000 non-null  int64  \n",
      " 46  Item5               10000 non-null  int64  \n",
      " 47  Item6               10000 non-null  int64  \n",
      " 48  Item7               10000 non-null  int64  \n",
      " 49  Item8               10000 non-null  int64  \n",
      "dtypes: float64(7), int64(16), object(27)\n",
      "memory usage: 3.8+ MB\n"
     ]
    }
   ],
   "source": [
    "# Import packages that will be used for the logistics regression analysis\n",
    "import pylab\n",
    "import seaborn as sb\n",
    "sb.set(style=\"white\")\n",
    "sb.set(style=\"whitegrid\", color_codes=True)\n",
    "import sklearn\n",
    "from sklearn.metrics import confusion_matrix\n",
    "from sklearn import preprocessing\n",
    "from sklearn.decomposition import PCA\n",
    "from sklearn.linear_model import LogisticRegression\n",
    "from sklearn.model_selection import train_test_split\n",
    "from sklearn.metrics import roc_auc_score\n",
    "from sklearn.metrics import roc_curve\n",
    "from sklearn.metrics import classification_report\n",
    "from sklearn import metrics\n",
    "import matplotlib.pyplot as plt\n",
    "plt.rc(\"font\", size=14)\n",
    "import numpy as np\n",
    "import scipy.stats as stats\n",
    "import statsmodels.api as sm\n",
    "import statsmodels.formula.api as smf\n",
    "from statsmodels.graphics.mosaicplot import mosaic\n",
    "from statsmodels.stats.outliers_influence import variance_inflation_factor\n",
    "from IPython.core.display import HTML\n",
    "from IPython.display import display\n",
    "import pandas as pd\n",
    "from pandas.api.types import CategoricalDtype\n",
    "from pandas import Series, DataFrame\n",
    "from sklearn.metrics import classification_report, confusion_matrix\n",
    "from imblearn.over_sampling import SMOTE\n",
    "\n",
    "# Import data set that will be used for the logistics regression analysis\n",
    "pd.set_option('display.max_columns', None)\n",
    "df = pd.read_csv (r'C:\\Users\\fahim\\Documents\\0_WGUDocuments\\d208\\1medical_clean.csv')\n",
    "# Check data types and number of values, as well as overall size of dataframe\n",
    "df.info()"
   ]
  },
  {
   "cell_type": "code",
   "execution_count": 2,
   "id": "2260e9b7",
   "metadata": {},
   "outputs": [
    {
     "data": {
      "text/html": [
       "<div>\n",
       "<style scoped>\n",
       "    .dataframe tbody tr th:only-of-type {\n",
       "        vertical-align: middle;\n",
       "    }\n",
       "\n",
       "    .dataframe tbody tr th {\n",
       "        vertical-align: top;\n",
       "    }\n",
       "\n",
       "    .dataframe thead th {\n",
       "        text-align: right;\n",
       "    }\n",
       "</style>\n",
       "<table border=\"1\" class=\"dataframe\">\n",
       "  <thead>\n",
       "    <tr style=\"text-align: right;\">\n",
       "      <th></th>\n",
       "      <th>CaseOrder</th>\n",
       "      <th>Customer_id</th>\n",
       "      <th>Interaction</th>\n",
       "      <th>UID</th>\n",
       "      <th>City</th>\n",
       "      <th>State</th>\n",
       "      <th>County</th>\n",
       "      <th>Zip</th>\n",
       "      <th>Lat</th>\n",
       "      <th>Lng</th>\n",
       "      <th>Population</th>\n",
       "      <th>Area</th>\n",
       "      <th>TimeZone</th>\n",
       "      <th>Job</th>\n",
       "      <th>Children</th>\n",
       "      <th>Age</th>\n",
       "      <th>Income</th>\n",
       "      <th>Marital</th>\n",
       "      <th>Gender</th>\n",
       "      <th>ReAdmis</th>\n",
       "      <th>VitD_levels</th>\n",
       "      <th>Doc_visits</th>\n",
       "      <th>Full_meals_eaten</th>\n",
       "      <th>vitD_supp</th>\n",
       "      <th>Soft_drink</th>\n",
       "      <th>Initial_admin</th>\n",
       "      <th>HighBlood</th>\n",
       "      <th>Stroke</th>\n",
       "      <th>Complication_risk</th>\n",
       "      <th>Overweight</th>\n",
       "      <th>Arthritis</th>\n",
       "      <th>Diabetes</th>\n",
       "      <th>Hyperlipidemia</th>\n",
       "      <th>BackPain</th>\n",
       "      <th>Anxiety</th>\n",
       "      <th>Allergic_rhinitis</th>\n",
       "      <th>Reflux_esophagitis</th>\n",
       "      <th>Asthma</th>\n",
       "      <th>Services</th>\n",
       "      <th>Initial_days</th>\n",
       "      <th>TotalCharge</th>\n",
       "      <th>Additional_charges</th>\n",
       "      <th>Item1</th>\n",
       "      <th>Item2</th>\n",
       "      <th>Item3</th>\n",
       "      <th>Item4</th>\n",
       "      <th>Item5</th>\n",
       "      <th>Item6</th>\n",
       "      <th>Item7</th>\n",
       "      <th>Item8</th>\n",
       "    </tr>\n",
       "  </thead>\n",
       "  <tbody>\n",
       "    <tr>\n",
       "      <th>0</th>\n",
       "      <td>1</td>\n",
       "      <td>C412403</td>\n",
       "      <td>8cd49b13-f45a-4b47-a2bd-173ffa932c2f</td>\n",
       "      <td>3a83ddb66e2ae73798bdf1d705dc0932</td>\n",
       "      <td>Eva</td>\n",
       "      <td>AL</td>\n",
       "      <td>Morgan</td>\n",
       "      <td>35621</td>\n",
       "      <td>34.34960</td>\n",
       "      <td>-86.72508</td>\n",
       "      <td>2951</td>\n",
       "      <td>Suburban</td>\n",
       "      <td>America/Chicago</td>\n",
       "      <td>Psychologist, sport and exercise</td>\n",
       "      <td>1</td>\n",
       "      <td>53</td>\n",
       "      <td>86575.93</td>\n",
       "      <td>Divorced</td>\n",
       "      <td>Male</td>\n",
       "      <td>No</td>\n",
       "      <td>19.141466</td>\n",
       "      <td>6</td>\n",
       "      <td>0</td>\n",
       "      <td>0</td>\n",
       "      <td>No</td>\n",
       "      <td>Emergency Admission</td>\n",
       "      <td>Yes</td>\n",
       "      <td>No</td>\n",
       "      <td>Medium</td>\n",
       "      <td>No</td>\n",
       "      <td>Yes</td>\n",
       "      <td>Yes</td>\n",
       "      <td>No</td>\n",
       "      <td>Yes</td>\n",
       "      <td>Yes</td>\n",
       "      <td>Yes</td>\n",
       "      <td>No</td>\n",
       "      <td>Yes</td>\n",
       "      <td>Blood Work</td>\n",
       "      <td>10.585770</td>\n",
       "      <td>3726.702860</td>\n",
       "      <td>17939.403420</td>\n",
       "      <td>3</td>\n",
       "      <td>3</td>\n",
       "      <td>2</td>\n",
       "      <td>2</td>\n",
       "      <td>4</td>\n",
       "      <td>3</td>\n",
       "      <td>3</td>\n",
       "      <td>4</td>\n",
       "    </tr>\n",
       "    <tr>\n",
       "      <th>1</th>\n",
       "      <td>2</td>\n",
       "      <td>Z919181</td>\n",
       "      <td>d2450b70-0337-4406-bdbb-bc1037f1734c</td>\n",
       "      <td>176354c5eef714957d486009feabf195</td>\n",
       "      <td>Marianna</td>\n",
       "      <td>FL</td>\n",
       "      <td>Jackson</td>\n",
       "      <td>32446</td>\n",
       "      <td>30.84513</td>\n",
       "      <td>-85.22907</td>\n",
       "      <td>11303</td>\n",
       "      <td>Urban</td>\n",
       "      <td>America/Chicago</td>\n",
       "      <td>Community development worker</td>\n",
       "      <td>3</td>\n",
       "      <td>51</td>\n",
       "      <td>46805.99</td>\n",
       "      <td>Married</td>\n",
       "      <td>Female</td>\n",
       "      <td>No</td>\n",
       "      <td>18.940352</td>\n",
       "      <td>4</td>\n",
       "      <td>2</td>\n",
       "      <td>1</td>\n",
       "      <td>No</td>\n",
       "      <td>Emergency Admission</td>\n",
       "      <td>Yes</td>\n",
       "      <td>No</td>\n",
       "      <td>High</td>\n",
       "      <td>Yes</td>\n",
       "      <td>No</td>\n",
       "      <td>No</td>\n",
       "      <td>No</td>\n",
       "      <td>No</td>\n",
       "      <td>No</td>\n",
       "      <td>No</td>\n",
       "      <td>Yes</td>\n",
       "      <td>No</td>\n",
       "      <td>Intravenous</td>\n",
       "      <td>15.129562</td>\n",
       "      <td>4193.190458</td>\n",
       "      <td>17612.998120</td>\n",
       "      <td>3</td>\n",
       "      <td>4</td>\n",
       "      <td>3</td>\n",
       "      <td>4</td>\n",
       "      <td>4</td>\n",
       "      <td>4</td>\n",
       "      <td>3</td>\n",
       "      <td>3</td>\n",
       "    </tr>\n",
       "    <tr>\n",
       "      <th>2</th>\n",
       "      <td>3</td>\n",
       "      <td>F995323</td>\n",
       "      <td>a2057123-abf5-4a2c-abad-8ffe33512562</td>\n",
       "      <td>e19a0fa00aeda885b8a436757e889bc9</td>\n",
       "      <td>Sioux Falls</td>\n",
       "      <td>SD</td>\n",
       "      <td>Minnehaha</td>\n",
       "      <td>57110</td>\n",
       "      <td>43.54321</td>\n",
       "      <td>-96.63772</td>\n",
       "      <td>17125</td>\n",
       "      <td>Suburban</td>\n",
       "      <td>America/Chicago</td>\n",
       "      <td>Chief Executive Officer</td>\n",
       "      <td>3</td>\n",
       "      <td>53</td>\n",
       "      <td>14370.14</td>\n",
       "      <td>Widowed</td>\n",
       "      <td>Female</td>\n",
       "      <td>No</td>\n",
       "      <td>18.057507</td>\n",
       "      <td>4</td>\n",
       "      <td>1</td>\n",
       "      <td>0</td>\n",
       "      <td>No</td>\n",
       "      <td>Elective Admission</td>\n",
       "      <td>Yes</td>\n",
       "      <td>No</td>\n",
       "      <td>Medium</td>\n",
       "      <td>Yes</td>\n",
       "      <td>No</td>\n",
       "      <td>Yes</td>\n",
       "      <td>No</td>\n",
       "      <td>No</td>\n",
       "      <td>No</td>\n",
       "      <td>No</td>\n",
       "      <td>No</td>\n",
       "      <td>No</td>\n",
       "      <td>Blood Work</td>\n",
       "      <td>4.772177</td>\n",
       "      <td>2434.234222</td>\n",
       "      <td>17505.192460</td>\n",
       "      <td>2</td>\n",
       "      <td>4</td>\n",
       "      <td>4</td>\n",
       "      <td>4</td>\n",
       "      <td>3</td>\n",
       "      <td>4</td>\n",
       "      <td>3</td>\n",
       "      <td>3</td>\n",
       "    </tr>\n",
       "    <tr>\n",
       "      <th>3</th>\n",
       "      <td>4</td>\n",
       "      <td>A879973</td>\n",
       "      <td>1dec528d-eb34-4079-adce-0d7a40e82205</td>\n",
       "      <td>cd17d7b6d152cb6f23957346d11c3f07</td>\n",
       "      <td>New Richland</td>\n",
       "      <td>MN</td>\n",
       "      <td>Waseca</td>\n",
       "      <td>56072</td>\n",
       "      <td>43.89744</td>\n",
       "      <td>-93.51479</td>\n",
       "      <td>2162</td>\n",
       "      <td>Suburban</td>\n",
       "      <td>America/Chicago</td>\n",
       "      <td>Early years teacher</td>\n",
       "      <td>0</td>\n",
       "      <td>78</td>\n",
       "      <td>39741.49</td>\n",
       "      <td>Married</td>\n",
       "      <td>Male</td>\n",
       "      <td>No</td>\n",
       "      <td>16.576858</td>\n",
       "      <td>4</td>\n",
       "      <td>1</td>\n",
       "      <td>0</td>\n",
       "      <td>No</td>\n",
       "      <td>Elective Admission</td>\n",
       "      <td>No</td>\n",
       "      <td>Yes</td>\n",
       "      <td>Medium</td>\n",
       "      <td>No</td>\n",
       "      <td>Yes</td>\n",
       "      <td>No</td>\n",
       "      <td>No</td>\n",
       "      <td>No</td>\n",
       "      <td>No</td>\n",
       "      <td>No</td>\n",
       "      <td>Yes</td>\n",
       "      <td>Yes</td>\n",
       "      <td>Blood Work</td>\n",
       "      <td>1.714879</td>\n",
       "      <td>2127.830423</td>\n",
       "      <td>12993.437350</td>\n",
       "      <td>3</td>\n",
       "      <td>5</td>\n",
       "      <td>5</td>\n",
       "      <td>3</td>\n",
       "      <td>4</td>\n",
       "      <td>5</td>\n",
       "      <td>5</td>\n",
       "      <td>5</td>\n",
       "    </tr>\n",
       "    <tr>\n",
       "      <th>4</th>\n",
       "      <td>5</td>\n",
       "      <td>C544523</td>\n",
       "      <td>5885f56b-d6da-43a3-8760-83583af94266</td>\n",
       "      <td>d2f0425877b10ed6bb381f3e2579424a</td>\n",
       "      <td>West Point</td>\n",
       "      <td>VA</td>\n",
       "      <td>King William</td>\n",
       "      <td>23181</td>\n",
       "      <td>37.59894</td>\n",
       "      <td>-76.88958</td>\n",
       "      <td>5287</td>\n",
       "      <td>Rural</td>\n",
       "      <td>America/New_York</td>\n",
       "      <td>Health promotion specialist</td>\n",
       "      <td>1</td>\n",
       "      <td>22</td>\n",
       "      <td>1209.56</td>\n",
       "      <td>Widowed</td>\n",
       "      <td>Female</td>\n",
       "      <td>No</td>\n",
       "      <td>17.439069</td>\n",
       "      <td>5</td>\n",
       "      <td>0</td>\n",
       "      <td>2</td>\n",
       "      <td>Yes</td>\n",
       "      <td>Elective Admission</td>\n",
       "      <td>No</td>\n",
       "      <td>No</td>\n",
       "      <td>Low</td>\n",
       "      <td>No</td>\n",
       "      <td>No</td>\n",
       "      <td>No</td>\n",
       "      <td>Yes</td>\n",
       "      <td>No</td>\n",
       "      <td>No</td>\n",
       "      <td>Yes</td>\n",
       "      <td>No</td>\n",
       "      <td>No</td>\n",
       "      <td>CT Scan</td>\n",
       "      <td>1.254807</td>\n",
       "      <td>2113.073274</td>\n",
       "      <td>3716.525786</td>\n",
       "      <td>2</td>\n",
       "      <td>1</td>\n",
       "      <td>3</td>\n",
       "      <td>3</td>\n",
       "      <td>5</td>\n",
       "      <td>3</td>\n",
       "      <td>4</td>\n",
       "      <td>3</td>\n",
       "    </tr>\n",
       "  </tbody>\n",
       "</table>\n",
       "</div>"
      ],
      "text/plain": [
       "   CaseOrder Customer_id                           Interaction  \\\n",
       "0          1     C412403  8cd49b13-f45a-4b47-a2bd-173ffa932c2f   \n",
       "1          2     Z919181  d2450b70-0337-4406-bdbb-bc1037f1734c   \n",
       "2          3     F995323  a2057123-abf5-4a2c-abad-8ffe33512562   \n",
       "3          4     A879973  1dec528d-eb34-4079-adce-0d7a40e82205   \n",
       "4          5     C544523  5885f56b-d6da-43a3-8760-83583af94266   \n",
       "\n",
       "                                UID          City State        County    Zip  \\\n",
       "0  3a83ddb66e2ae73798bdf1d705dc0932           Eva    AL        Morgan  35621   \n",
       "1  176354c5eef714957d486009feabf195      Marianna    FL       Jackson  32446   \n",
       "2  e19a0fa00aeda885b8a436757e889bc9   Sioux Falls    SD     Minnehaha  57110   \n",
       "3  cd17d7b6d152cb6f23957346d11c3f07  New Richland    MN        Waseca  56072   \n",
       "4  d2f0425877b10ed6bb381f3e2579424a    West Point    VA  King William  23181   \n",
       "\n",
       "        Lat       Lng  Population      Area          TimeZone  \\\n",
       "0  34.34960 -86.72508        2951  Suburban   America/Chicago   \n",
       "1  30.84513 -85.22907       11303     Urban   America/Chicago   \n",
       "2  43.54321 -96.63772       17125  Suburban   America/Chicago   \n",
       "3  43.89744 -93.51479        2162  Suburban   America/Chicago   \n",
       "4  37.59894 -76.88958        5287     Rural  America/New_York   \n",
       "\n",
       "                                Job  Children  Age    Income   Marital  \\\n",
       "0  Psychologist, sport and exercise         1   53  86575.93  Divorced   \n",
       "1      Community development worker         3   51  46805.99   Married   \n",
       "2           Chief Executive Officer         3   53  14370.14   Widowed   \n",
       "3               Early years teacher         0   78  39741.49   Married   \n",
       "4       Health promotion specialist         1   22   1209.56   Widowed   \n",
       "\n",
       "   Gender ReAdmis  VitD_levels  Doc_visits  Full_meals_eaten  vitD_supp  \\\n",
       "0    Male      No    19.141466           6                 0          0   \n",
       "1  Female      No    18.940352           4                 2          1   \n",
       "2  Female      No    18.057507           4                 1          0   \n",
       "3    Male      No    16.576858           4                 1          0   \n",
       "4  Female      No    17.439069           5                 0          2   \n",
       "\n",
       "  Soft_drink        Initial_admin HighBlood Stroke Complication_risk  \\\n",
       "0         No  Emergency Admission       Yes     No            Medium   \n",
       "1         No  Emergency Admission       Yes     No              High   \n",
       "2         No   Elective Admission       Yes     No            Medium   \n",
       "3         No   Elective Admission        No    Yes            Medium   \n",
       "4        Yes   Elective Admission        No     No               Low   \n",
       "\n",
       "  Overweight Arthritis Diabetes Hyperlipidemia BackPain Anxiety  \\\n",
       "0         No       Yes      Yes             No      Yes     Yes   \n",
       "1        Yes        No       No             No       No      No   \n",
       "2        Yes        No      Yes             No       No      No   \n",
       "3         No       Yes       No             No       No      No   \n",
       "4         No        No       No            Yes       No      No   \n",
       "\n",
       "  Allergic_rhinitis Reflux_esophagitis Asthma     Services  Initial_days  \\\n",
       "0               Yes                 No    Yes   Blood Work     10.585770   \n",
       "1                No                Yes     No  Intravenous     15.129562   \n",
       "2                No                 No     No   Blood Work      4.772177   \n",
       "3                No                Yes    Yes   Blood Work      1.714879   \n",
       "4               Yes                 No     No      CT Scan      1.254807   \n",
       "\n",
       "   TotalCharge  Additional_charges  Item1  Item2  Item3  Item4  Item5  Item6  \\\n",
       "0  3726.702860        17939.403420      3      3      2      2      4      3   \n",
       "1  4193.190458        17612.998120      3      4      3      4      4      4   \n",
       "2  2434.234222        17505.192460      2      4      4      4      3      4   \n",
       "3  2127.830423        12993.437350      3      5      5      3      4      5   \n",
       "4  2113.073274         3716.525786      2      1      3      3      5      3   \n",
       "\n",
       "   Item7  Item8  \n",
       "0      3      4  \n",
       "1      3      3  \n",
       "2      3      3  \n",
       "3      5      5  \n",
       "4      4      3  "
      ]
     },
     "execution_count": 2,
     "metadata": {},
     "output_type": "execute_result"
    }
   ],
   "source": [
    "# Visually inspect dataframe to facilitate exploration, spot problems\n",
    "pd.set_option(\"display.max_columns\", None)\n",
    "df.head(5)"
   ]
  },
  {
   "cell_type": "code",
   "execution_count": 3,
   "id": "496aa3ae",
   "metadata": {},
   "outputs": [
    {
     "data": {
      "text/html": [
       "<div>\n",
       "<style scoped>\n",
       "    .dataframe tbody tr th:only-of-type {\n",
       "        vertical-align: middle;\n",
       "    }\n",
       "\n",
       "    .dataframe tbody tr th {\n",
       "        vertical-align: top;\n",
       "    }\n",
       "\n",
       "    .dataframe thead th {\n",
       "        text-align: right;\n",
       "    }\n",
       "</style>\n",
       "<table border=\"1\" class=\"dataframe\">\n",
       "  <thead>\n",
       "    <tr style=\"text-align: right;\">\n",
       "      <th></th>\n",
       "      <th>CaseOrder</th>\n",
       "      <th>Customer_id</th>\n",
       "      <th>Interaction</th>\n",
       "      <th>UID</th>\n",
       "      <th>City</th>\n",
       "      <th>State</th>\n",
       "      <th>County</th>\n",
       "      <th>Zip</th>\n",
       "      <th>Lat</th>\n",
       "      <th>Lng</th>\n",
       "      <th>Population</th>\n",
       "      <th>Area</th>\n",
       "      <th>TimeZone</th>\n",
       "      <th>Job</th>\n",
       "      <th>Children</th>\n",
       "      <th>Age</th>\n",
       "      <th>Income</th>\n",
       "      <th>Marital</th>\n",
       "      <th>Gender</th>\n",
       "      <th>ReAdmis</th>\n",
       "      <th>VitD_levels</th>\n",
       "      <th>Doc_visits</th>\n",
       "      <th>Full_meals_eaten</th>\n",
       "      <th>vitD_supp</th>\n",
       "      <th>Soft_drink</th>\n",
       "      <th>Initial_admin</th>\n",
       "      <th>HighBlood</th>\n",
       "      <th>Stroke</th>\n",
       "      <th>Complication_risk</th>\n",
       "      <th>Overweight</th>\n",
       "      <th>Arthritis</th>\n",
       "      <th>Diabetes</th>\n",
       "      <th>Hyperlipidemia</th>\n",
       "      <th>BackPain</th>\n",
       "      <th>Anxiety</th>\n",
       "      <th>Allergic_rhinitis</th>\n",
       "      <th>Reflux_esophagitis</th>\n",
       "      <th>Asthma</th>\n",
       "      <th>Services</th>\n",
       "      <th>Initial_days</th>\n",
       "      <th>TotalCharge</th>\n",
       "      <th>Additional_charges</th>\n",
       "      <th>Item1</th>\n",
       "      <th>Item2</th>\n",
       "      <th>Item3</th>\n",
       "      <th>Item4</th>\n",
       "      <th>Item5</th>\n",
       "      <th>Item6</th>\n",
       "      <th>Item7</th>\n",
       "      <th>Item8</th>\n",
       "    </tr>\n",
       "  </thead>\n",
       "  <tbody>\n",
       "  </tbody>\n",
       "</table>\n",
       "</div>"
      ],
      "text/plain": [
       "Empty DataFrame\n",
       "Columns: [CaseOrder, Customer_id, Interaction, UID, City, State, County, Zip, Lat, Lng, Population, Area, TimeZone, Job, Children, Age, Income, Marital, Gender, ReAdmis, VitD_levels, Doc_visits, Full_meals_eaten, vitD_supp, Soft_drink, Initial_admin, HighBlood, Stroke, Complication_risk, Overweight, Arthritis, Diabetes, Hyperlipidemia, BackPain, Anxiety, Allergic_rhinitis, Reflux_esophagitis, Asthma, Services, Initial_days, TotalCharge, Additional_charges, Item1, Item2, Item3, Item4, Item5, Item6, Item7, Item8]\n",
       "Index: []"
      ]
     },
     "execution_count": 3,
     "metadata": {},
     "output_type": "execute_result"
    }
   ],
   "source": [
    "#check if there is any duplicate data entries present in columns\n",
    "df[df.duplicated()]"
   ]
  },
  {
   "cell_type": "code",
   "execution_count": 4,
   "id": "5958bec5",
   "metadata": {},
   "outputs": [
    {
     "data": {
      "text/plain": [
       "False"
      ]
     },
     "execution_count": 4,
     "metadata": {},
     "output_type": "execute_result"
    }
   ],
   "source": [
    "# check if there are any duplicated columns in the data set - if there are none then the output should be False\n",
    "df.columns.duplicated().any()"
   ]
  },
  {
   "cell_type": "code",
   "execution_count": 5,
   "id": "2b1d94b1",
   "metadata": {},
   "outputs": [
    {
     "data": {
      "text/plain": [
       "False"
      ]
     },
     "execution_count": 5,
     "metadata": {},
     "output_type": "execute_result"
    }
   ],
   "source": [
    "# check if there are any duplicated rows in the data set - if there are none then the output should be False\n",
    "df.duplicated().any()"
   ]
  },
  {
   "cell_type": "code",
   "execution_count": 6,
   "id": "22888f37",
   "metadata": {},
   "outputs": [
    {
     "data": {
      "text/plain": [
       "count    10000.000000\n",
       "mean        53.511700\n",
       "std         20.638538\n",
       "min         18.000000\n",
       "25%         36.000000\n",
       "50%         53.000000\n",
       "75%         71.000000\n",
       "max         89.000000\n",
       "Name: Age, dtype: float64"
      ]
     },
     "execution_count": 6,
     "metadata": {},
     "output_type": "execute_result"
    }
   ],
   "source": [
    "#Summary Statistics\n",
    "df.Age.describe()"
   ]
  },
  {
   "cell_type": "code",
   "execution_count": 7,
   "id": "846145f2",
   "metadata": {},
   "outputs": [
    {
     "data": {
      "text/plain": [
       "Female       5018\n",
       "Male         4768\n",
       "Nonbinary     214\n",
       "Name: Gender, dtype: int64"
      ]
     },
     "execution_count": 7,
     "metadata": {},
     "output_type": "execute_result"
    }
   ],
   "source": [
    "df.Gender.value_counts()"
   ]
  },
  {
   "cell_type": "code",
   "execution_count": 8,
   "id": "7e773605",
   "metadata": {},
   "outputs": [
    {
     "data": {
      "text/plain": [
       "count    10000.000000\n",
       "mean        17.964262\n",
       "std          2.017231\n",
       "min          9.806483\n",
       "25%         16.626439\n",
       "50%         17.951122\n",
       "75%         19.347963\n",
       "max         26.394449\n",
       "Name: VitD_levels, dtype: float64"
      ]
     },
     "execution_count": 8,
     "metadata": {},
     "output_type": "execute_result"
    }
   ],
   "source": [
    "df.VitD_levels.describe()"
   ]
  },
  {
   "cell_type": "code",
   "execution_count": 9,
   "id": "7f1a0b15",
   "metadata": {},
   "outputs": [
    {
     "data": {
      "text/plain": [
       "Elective Admission       2504\n",
       "Emergency Admission      5060\n",
       "Observation Admission    2436\n",
       "Name: Initial_admin, dtype: int64"
      ]
     },
     "execution_count": 9,
     "metadata": {},
     "output_type": "execute_result"
    }
   ],
   "source": [
    "df.Initial_admin.value_counts().sort_index()"
   ]
  },
  {
   "cell_type": "code",
   "execution_count": 10,
   "id": "1123a8dc",
   "metadata": {},
   "outputs": [
    {
     "data": {
      "text/plain": [
       "No     5910\n",
       "Yes    4090\n",
       "Name: HighBlood, dtype: int64"
      ]
     },
     "execution_count": 10,
     "metadata": {},
     "output_type": "execute_result"
    }
   ],
   "source": [
    "df.HighBlood.value_counts()"
   ]
  },
  {
   "cell_type": "code",
   "execution_count": 11,
   "id": "0e62742f",
   "metadata": {},
   "outputs": [
    {
     "data": {
      "text/plain": [
       "High      3358\n",
       "Low       2125\n",
       "Medium    4517\n",
       "Name: Complication_risk, dtype: int64"
      ]
     },
     "execution_count": 11,
     "metadata": {},
     "output_type": "execute_result"
    }
   ],
   "source": [
    "df.Complication_risk.value_counts().sort_index()"
   ]
  },
  {
   "cell_type": "code",
   "execution_count": 12,
   "id": "c36899cf",
   "metadata": {},
   "outputs": [
    {
     "data": {
      "text/plain": [
       "Yes    7094\n",
       "No     2906\n",
       "Name: Overweight, dtype: int64"
      ]
     },
     "execution_count": 12,
     "metadata": {},
     "output_type": "execute_result"
    }
   ],
   "source": [
    "df.Overweight.value_counts()"
   ]
  },
  {
   "cell_type": "code",
   "execution_count": 13,
   "id": "5d226526",
   "metadata": {},
   "outputs": [
    {
     "data": {
      "text/plain": [
       "No     5886\n",
       "Yes    4114\n",
       "Name: BackPain, dtype: int64"
      ]
     },
     "execution_count": 13,
     "metadata": {},
     "output_type": "execute_result"
    }
   ],
   "source": [
    "df.BackPain.value_counts()"
   ]
  },
  {
   "cell_type": "code",
   "execution_count": 14,
   "id": "83328110",
   "metadata": {},
   "outputs": [
    {
     "data": {
      "text/plain": [
       "No     7262\n",
       "Yes    2738\n",
       "Name: Diabetes, dtype: int64"
      ]
     },
     "execution_count": 14,
     "metadata": {},
     "output_type": "execute_result"
    }
   ],
   "source": [
    "df.Diabetes.value_counts()"
   ]
  },
  {
   "cell_type": "code",
   "execution_count": 15,
   "id": "42459a75",
   "metadata": {},
   "outputs": [
    {
     "data": {
      "text/plain": [
       "No     7107\n",
       "Yes    2893\n",
       "Name: Asthma, dtype: int64"
      ]
     },
     "execution_count": 15,
     "metadata": {},
     "output_type": "execute_result"
    }
   ],
   "source": [
    "df.Asthma.value_counts()"
   ]
  },
  {
   "cell_type": "code",
   "execution_count": 16,
   "id": "3322163c",
   "metadata": {},
   "outputs": [
    {
     "data": {
      "text/plain": [
       "count    10000.000000\n",
       "mean        34.455299\n",
       "std         26.309341\n",
       "min          1.001981\n",
       "25%          7.896215\n",
       "50%         35.836244\n",
       "75%         61.161020\n",
       "max         71.981490\n",
       "Name: Initial_days, dtype: float64"
      ]
     },
     "execution_count": 16,
     "metadata": {},
     "output_type": "execute_result"
    }
   ],
   "source": [
    "df.Initial_days.describe()"
   ]
  },
  {
   "cell_type": "code",
   "execution_count": 17,
   "id": "182e2a00",
   "metadata": {},
   "outputs": [
    {
     "data": {
      "text/plain": [
       "7968    71.98149\n",
       "5326    71.96869\n",
       "7479    71.96546\n",
       "6166    71.96415\n",
       "8066    71.96342\n",
       "5874    71.96164\n",
       "5829    71.96134\n",
       "9159    71.95813\n",
       "8817    71.95472\n",
       "7524    71.94732\n",
       "9074    71.94459\n",
       "7839    71.92930\n",
       "9677    71.92647\n",
       "9221    71.92413\n",
       "5162    71.92171\n",
       "9101    71.90712\n",
       "9766    71.90694\n",
       "5374    71.90056\n",
       "6601    71.89863\n",
       "7214    71.89805\n",
       "Name: Initial_days, dtype: float64"
      ]
     },
     "execution_count": 17,
     "metadata": {},
     "output_type": "execute_result"
    }
   ],
   "source": [
    "df.Initial_days.nlargest(n=20)"
   ]
  },
  {
   "cell_type": "code",
   "execution_count": 18,
   "id": "0f10953c",
   "metadata": {},
   "outputs": [
    {
     "data": {
      "text/plain": [
       "No     6426\n",
       "Yes    3574\n",
       "Name: Arthritis, dtype: int64"
      ]
     },
     "execution_count": 18,
     "metadata": {},
     "output_type": "execute_result"
    }
   ],
   "source": [
    "df.Arthritis.value_counts()"
   ]
  },
  {
   "cell_type": "code",
   "execution_count": 19,
   "id": "f293ead7",
   "metadata": {},
   "outputs": [
    {
     "data": {
      "text/html": [
       "<div>\n",
       "<style scoped>\n",
       "    .dataframe tbody tr th:only-of-type {\n",
       "        vertical-align: middle;\n",
       "    }\n",
       "\n",
       "    .dataframe tbody tr th {\n",
       "        vertical-align: top;\n",
       "    }\n",
       "\n",
       "    .dataframe thead th {\n",
       "        text-align: right;\n",
       "    }\n",
       "</style>\n",
       "<table border=\"1\" class=\"dataframe\">\n",
       "  <thead>\n",
       "    <tr style=\"text-align: right;\">\n",
       "      <th></th>\n",
       "      <th>age</th>\n",
       "      <th>vit_d_level</th>\n",
       "      <th>gender_male</th>\n",
       "      <th>gender_nonbinary</th>\n",
       "      <th>high_bp</th>\n",
       "      <th>initial_admit_observ</th>\n",
       "      <th>initial_admit_emerg</th>\n",
       "      <th>overweight</th>\n",
       "      <th>comp_risk_low</th>\n",
       "      <th>comp_risk_medium</th>\n",
       "      <th>arthritis</th>\n",
       "      <th>diabetes</th>\n",
       "      <th>back_pain</th>\n",
       "      <th>asthma</th>\n",
       "      <th>days_hospitalized</th>\n",
       "    </tr>\n",
       "  </thead>\n",
       "  <tbody>\n",
       "    <tr>\n",
       "      <th>0</th>\n",
       "      <td>53</td>\n",
       "      <td>19.141466</td>\n",
       "      <td>1</td>\n",
       "      <td>0</td>\n",
       "      <td>1</td>\n",
       "      <td>0</td>\n",
       "      <td>1</td>\n",
       "      <td>0</td>\n",
       "      <td>0</td>\n",
       "      <td>1</td>\n",
       "      <td>1</td>\n",
       "      <td>1</td>\n",
       "      <td>1</td>\n",
       "      <td>1</td>\n",
       "      <td>10.585770</td>\n",
       "    </tr>\n",
       "    <tr>\n",
       "      <th>1</th>\n",
       "      <td>51</td>\n",
       "      <td>18.940352</td>\n",
       "      <td>0</td>\n",
       "      <td>0</td>\n",
       "      <td>1</td>\n",
       "      <td>0</td>\n",
       "      <td>1</td>\n",
       "      <td>1</td>\n",
       "      <td>0</td>\n",
       "      <td>0</td>\n",
       "      <td>0</td>\n",
       "      <td>0</td>\n",
       "      <td>0</td>\n",
       "      <td>0</td>\n",
       "      <td>15.129562</td>\n",
       "    </tr>\n",
       "    <tr>\n",
       "      <th>2</th>\n",
       "      <td>53</td>\n",
       "      <td>18.057507</td>\n",
       "      <td>0</td>\n",
       "      <td>0</td>\n",
       "      <td>1</td>\n",
       "      <td>0</td>\n",
       "      <td>0</td>\n",
       "      <td>1</td>\n",
       "      <td>0</td>\n",
       "      <td>1</td>\n",
       "      <td>0</td>\n",
       "      <td>1</td>\n",
       "      <td>0</td>\n",
       "      <td>0</td>\n",
       "      <td>4.772177</td>\n",
       "    </tr>\n",
       "    <tr>\n",
       "      <th>3</th>\n",
       "      <td>78</td>\n",
       "      <td>16.576858</td>\n",
       "      <td>1</td>\n",
       "      <td>0</td>\n",
       "      <td>0</td>\n",
       "      <td>0</td>\n",
       "      <td>0</td>\n",
       "      <td>0</td>\n",
       "      <td>0</td>\n",
       "      <td>1</td>\n",
       "      <td>1</td>\n",
       "      <td>0</td>\n",
       "      <td>0</td>\n",
       "      <td>1</td>\n",
       "      <td>1.714879</td>\n",
       "    </tr>\n",
       "    <tr>\n",
       "      <th>4</th>\n",
       "      <td>22</td>\n",
       "      <td>17.439069</td>\n",
       "      <td>0</td>\n",
       "      <td>0</td>\n",
       "      <td>0</td>\n",
       "      <td>0</td>\n",
       "      <td>0</td>\n",
       "      <td>0</td>\n",
       "      <td>1</td>\n",
       "      <td>0</td>\n",
       "      <td>0</td>\n",
       "      <td>0</td>\n",
       "      <td>0</td>\n",
       "      <td>0</td>\n",
       "      <td>1.254807</td>\n",
       "    </tr>\n",
       "    <tr>\n",
       "      <th>...</th>\n",
       "      <td>...</td>\n",
       "      <td>...</td>\n",
       "      <td>...</td>\n",
       "      <td>...</td>\n",
       "      <td>...</td>\n",
       "      <td>...</td>\n",
       "      <td>...</td>\n",
       "      <td>...</td>\n",
       "      <td>...</td>\n",
       "      <td>...</td>\n",
       "      <td>...</td>\n",
       "      <td>...</td>\n",
       "      <td>...</td>\n",
       "      <td>...</td>\n",
       "      <td>...</td>\n",
       "    </tr>\n",
       "    <tr>\n",
       "      <th>9995</th>\n",
       "      <td>25</td>\n",
       "      <td>16.980860</td>\n",
       "      <td>1</td>\n",
       "      <td>0</td>\n",
       "      <td>1</td>\n",
       "      <td>0</td>\n",
       "      <td>1</td>\n",
       "      <td>0</td>\n",
       "      <td>0</td>\n",
       "      <td>1</td>\n",
       "      <td>0</td>\n",
       "      <td>0</td>\n",
       "      <td>0</td>\n",
       "      <td>0</td>\n",
       "      <td>51.561220</td>\n",
       "    </tr>\n",
       "    <tr>\n",
       "      <th>9996</th>\n",
       "      <td>87</td>\n",
       "      <td>18.177020</td>\n",
       "      <td>1</td>\n",
       "      <td>0</td>\n",
       "      <td>1</td>\n",
       "      <td>0</td>\n",
       "      <td>0</td>\n",
       "      <td>1</td>\n",
       "      <td>0</td>\n",
       "      <td>1</td>\n",
       "      <td>1</td>\n",
       "      <td>1</td>\n",
       "      <td>0</td>\n",
       "      <td>1</td>\n",
       "      <td>68.668240</td>\n",
       "    </tr>\n",
       "    <tr>\n",
       "      <th>9997</th>\n",
       "      <td>45</td>\n",
       "      <td>17.129070</td>\n",
       "      <td>0</td>\n",
       "      <td>0</td>\n",
       "      <td>1</td>\n",
       "      <td>0</td>\n",
       "      <td>0</td>\n",
       "      <td>1</td>\n",
       "      <td>0</td>\n",
       "      <td>0</td>\n",
       "      <td>0</td>\n",
       "      <td>0</td>\n",
       "      <td>0</td>\n",
       "      <td>0</td>\n",
       "      <td>70.154180</td>\n",
       "    </tr>\n",
       "    <tr>\n",
       "      <th>9998</th>\n",
       "      <td>43</td>\n",
       "      <td>19.910430</td>\n",
       "      <td>1</td>\n",
       "      <td>0</td>\n",
       "      <td>0</td>\n",
       "      <td>0</td>\n",
       "      <td>1</td>\n",
       "      <td>1</td>\n",
       "      <td>0</td>\n",
       "      <td>1</td>\n",
       "      <td>0</td>\n",
       "      <td>0</td>\n",
       "      <td>1</td>\n",
       "      <td>0</td>\n",
       "      <td>63.356900</td>\n",
       "    </tr>\n",
       "    <tr>\n",
       "      <th>9999</th>\n",
       "      <td>70</td>\n",
       "      <td>18.388620</td>\n",
       "      <td>0</td>\n",
       "      <td>0</td>\n",
       "      <td>0</td>\n",
       "      <td>1</td>\n",
       "      <td>0</td>\n",
       "      <td>1</td>\n",
       "      <td>1</td>\n",
       "      <td>0</td>\n",
       "      <td>1</td>\n",
       "      <td>0</td>\n",
       "      <td>0</td>\n",
       "      <td>0</td>\n",
       "      <td>70.850590</td>\n",
       "    </tr>\n",
       "  </tbody>\n",
       "</table>\n",
       "<p>10000 rows × 15 columns</p>\n",
       "</div>"
      ],
      "text/plain": [
       "      age  vit_d_level  gender_male  gender_nonbinary  high_bp  \\\n",
       "0      53    19.141466            1                 0        1   \n",
       "1      51    18.940352            0                 0        1   \n",
       "2      53    18.057507            0                 0        1   \n",
       "3      78    16.576858            1                 0        0   \n",
       "4      22    17.439069            0                 0        0   \n",
       "...   ...          ...          ...               ...      ...   \n",
       "9995   25    16.980860            1                 0        1   \n",
       "9996   87    18.177020            1                 0        1   \n",
       "9997   45    17.129070            0                 0        1   \n",
       "9998   43    19.910430            1                 0        0   \n",
       "9999   70    18.388620            0                 0        0   \n",
       "\n",
       "      initial_admit_observ  initial_admit_emerg  overweight  comp_risk_low  \\\n",
       "0                        0                    1           0              0   \n",
       "1                        0                    1           1              0   \n",
       "2                        0                    0           1              0   \n",
       "3                        0                    0           0              0   \n",
       "4                        0                    0           0              1   \n",
       "...                    ...                  ...         ...            ...   \n",
       "9995                     0                    1           0              0   \n",
       "9996                     0                    0           1              0   \n",
       "9997                     0                    0           1              0   \n",
       "9998                     0                    1           1              0   \n",
       "9999                     1                    0           1              1   \n",
       "\n",
       "      comp_risk_medium  arthritis  diabetes  back_pain  asthma  \\\n",
       "0                    1          1         1          1       1   \n",
       "1                    0          0         0          0       0   \n",
       "2                    1          0         1          0       0   \n",
       "3                    1          1         0          0       1   \n",
       "4                    0          0         0          0       0   \n",
       "...                ...        ...       ...        ...     ...   \n",
       "9995                 1          0         0          0       0   \n",
       "9996                 1          1         1          0       1   \n",
       "9997                 0          0         0          0       0   \n",
       "9998                 1          0         0          1       0   \n",
       "9999                 0          1         0          0       0   \n",
       "\n",
       "      days_hospitalized  \n",
       "0             10.585770  \n",
       "1             15.129562  \n",
       "2              4.772177  \n",
       "3              1.714879  \n",
       "4              1.254807  \n",
       "...                 ...  \n",
       "9995          51.561220  \n",
       "9996          68.668240  \n",
       "9997          70.154180  \n",
       "9998          63.356900  \n",
       "9999          70.850590  \n",
       "\n",
       "[10000 rows x 15 columns]"
      ]
     },
     "execution_count": 19,
     "metadata": {},
     "output_type": "execute_result"
    }
   ],
   "source": [
    "# Data Preparation for analysis\n",
    "# Convert column to category from string\n",
    "df[\"TimeZone\"] = df[\"TimeZone\"].astype(\"category\")\n",
    "# Reformat column representing currency in USD to 3 decimal places from 6\n",
    "df[\"Income\"] = df[\"Income\"].astype(int)\n",
    "# Convert column to category from string\n",
    "df[\"Marital\"] = df[\"Marital\"].astype(\"category\")\n",
    "# Convert column to category from string\n",
    "df[\"Gender\"] = df[\"Gender\"].astype(\"category\")\n",
    "\n",
    "# Convert categorical yes/no values to numeric 1/0 values\n",
    "df = df.replace(to_replace = ['Yes','No'],value = [1,0])\n",
    "\n",
    "# Perform one-hot encoding\n",
    "# Generate columns of dummy values for dataframe's Gender column\n",
    "gender_temp_df = pd.get_dummies(data=df[\"Gender\"], drop_first=True)\n",
    "# Generate columns of dummy values for dataframe's Initial_admin column\n",
    "initial_admit_temp_df = pd.get_dummies(data=df[\"Initial_admin\"], drop_first=True)\n",
    "# Generate columns of dummy values for dataframe's Complication_risk column\n",
    "comp_risk_temp_df = pd.get_dummies(data=df[\"Complication_risk\"], drop_first=True)\n",
    "# Create the new df with the variables used for this analysis\n",
    "regress_df = df[[\"Age\", \"VitD_levels\", \"HighBlood\", \"Overweight\", \"Arthritis\", \"Diabetes\", \"BackPain\", \"Asthma\", \"Initial_days\"]]\n",
    "# Generate and apply new Pythonic names for ease of use\n",
    "pythonic_columns = [\"age\", \"vit_d_level\", \"high_bp\", \"overweight\", \"arthritis\", \"diabetes\", \"back_pain\", \"asthma\", \"days_hospitalized\"]\n",
    "regress_df.set_axis(pythonic_columns, axis=1, inplace=True)\n",
    "# Insert the generated dummy variables to new dataframe, placing them in the same order as the original dataframe\n",
    "# Dummies for Complication Risk\n",
    "regress_df.insert(4, \"comp_risk_medium\", comp_risk_temp_df.Medium)\n",
    "regress_df.insert(4, \"comp_risk_low\", comp_risk_temp_df.Low)\n",
    "# Dummies for Initial Admit\n",
    "regress_df.insert(3, \"initial_admit_emerg\", initial_admit_temp_df[\"Emergency Admission\"])\n",
    "regress_df.insert(3, \"initial_admit_observ\", initial_admit_temp_df[\"Observation Admission\"])\n",
    "# Dummies for Gender\n",
    "regress_df.insert(2, \"gender_nonbinary\", gender_temp_df.Nonbinary)\n",
    "regress_df.insert(2, \"gender_male\", gender_temp_df.Male)\n",
    "# Check resulting dataframe\n",
    "regress_df"
   ]
  },
  {
   "cell_type": "code",
   "execution_count": 20,
   "id": "727051ed",
   "metadata": {},
   "outputs": [
    {
     "data": {
      "image/png": "[encoded data removed]",
      "text/plain": [
       "<Figure size 1152x360 with 1 Axes>"
      ]
     },
     "metadata": {},
     "output_type": "display_data"
    }
   ],
   "source": [
    "#Bivariate distribution of Arthritis\n",
    "plt.figure(figsize = [16,5])\n",
    "plt.title('Distribution of Patients with Arthritis')\n",
    "arthritis_counts = regress_df.arthritis.value_counts()\n",
    "arthritis_labels = [\"No arthritis\", \"Arthritis\"]\n",
    "plt.pie(arthritis_counts, labels=arthritis_labels, autopct='%1.1f%%', startangle=90, counterclock=False)\n",
    "plt.axis('square');"
   ]
  },
  {
   "cell_type": "code",
   "execution_count": 21,
   "id": "b80b9c83",
   "metadata": {},
   "outputs": [
    {
     "data": {
      "image/png": "[encoded data removed]",
      "text/plain": [
       "<Figure size 1152x360 with 2 Axes>"
      ]
     },
     "metadata": {
      "needs_background": "light"
     },
     "output_type": "display_data"
    }
   ],
   "source": [
    "#Univariate and bivariate distribution of Age\n",
    "plt.figure(figsize = [16,5])\n",
    "plt.suptitle(\"Visual exploration of Patient's Age\")\n",
    "\n",
    "# LEFT plot: Univariate exploration of age\n",
    "plt.subplot(1, 2, 1)\n",
    "plt.title('Distribution of Patient Age')\n",
    "bins = np.arange(0, 100, 1)\n",
    "plt.hist(data=regress_df, x=\"age\", bins=bins)\n",
    "plt.xlabel('Patient Age')\n",
    "plt.ylabel(\"Number of Patients\");\n",
    "\n",
    "# RIGHT plot: Bivariate exploration of age vs arthritis\n",
    "plt.subplot(1, 2, 2)\n",
    "plt.title(\"Relationship of Age vs Arthritis\")\n",
    "sb.violinplot(data = regress_df, x=\"age\", y=\"arthritis\", orient='h')\n",
    "plt.xlabel(\"Patient Age\")\n",
    "plt.ylabel(\"Patient Arthritis\")\n",
    "plt.yticks([0,1], [\"False\", \"True\"]);"
   ]
  },
  {
   "cell_type": "code",
   "execution_count": 22,
   "id": "75d9b3bb",
   "metadata": {},
   "outputs": [
    {
     "data": {
      "image/png": "[encoded data removed]",
      "text/plain": [
       "<Figure size 1152x360 with 2 Axes>"
      ]
     },
     "metadata": {
      "needs_background": "light"
     },
     "output_type": "display_data"
    }
   ],
   "source": [
    "plt.figure(figsize = [16,5])\n",
    "plt.suptitle(\"Visual exploration of Patient's Age\")\n",
    "\n",
    "# LEFT plot: Univariate exploration of age\n",
    "plt.subplot(1, 2, 1)\n",
    "plt.title('Distribution of Patient Age')\n",
    "bins = np.arange(0, 100, 1)\n",
    "plt.hist(data=regress_df, x=\"age\", bins=bins)\n",
    "plt.xlabel('Patient Age')\n",
    "plt.ylabel(\"Number of Patients\");\n",
    "\n",
    "# RIGHT plot: Bivariate exploration of age vs arthritis\n",
    "plt.subplot(1, 2, 2)\n",
    "plt.title(\"Relationship of Age vs Arthritis\")\n",
    "sb.histplot(data = regress_df, x=\"age\", hue=\"arthritis\", bins=bins, kde=True, multiple=\"stack\")\n",
    "plt.legend(title=\"Arthritis\", labels=[\"Yes\", \"No\"])\n",
    "plt.xlabel(\"Patient Age\")\n",
    "plt.ylabel(\"Number of Patients\");"
   ]
  },
  {
   "cell_type": "code",
   "execution_count": 23,
   "id": "ee8b38de",
   "metadata": {},
   "outputs": [
    {
     "data": {
      "image/png": "[encoded data removed]",
      "text/plain": [
       "<Figure size 1152x360 with 2 Axes>"
      ]
     },
     "metadata": {
      "needs_background": "light"
     },
     "output_type": "display_data"
    }
   ],
   "source": [
    "#Univariate and bivariate distribution of Gender\n",
    "plt.figure(figsize = [16,5])\n",
    "plt.suptitle(\"Visual exploration of Patient's Gender\")\n",
    "\n",
    "# LEFT plot: Univariate exploration of num_children\n",
    "plt.subplot(1, 2, 1)\n",
    "plt.title(\"Patient Gender Distribution\")\n",
    "gender_counts = df[\"Gender\"].value_counts()\n",
    "plt.pie(gender_counts, labels=gender_counts.index, autopct='%1.1f%%', startangle=90, counterclock = False)\n",
    "plt.axis('square');\n",
    "\n",
    "# RIGHT plot: Bivariate exploration of num_children vs arthritis\n",
    "plt.subplot(1, 2, 2)\n",
    "plt.title(\"Relationship of Gender vs Hospitalization Length\")\n",
    "sb.countplot(data = df, x=\"Gender\", hue=\"BackPain\")\n",
    "plt.legend([\"No Arthritis\", \"Arthritis\"])\n",
    "plt.xlabel(\"Patient Gender\")\n",
    "plt.ylabel(\"Number of Patients\");"
   ]
  },
  {
   "cell_type": "code",
   "execution_count": 24,
   "id": "a944d1b7",
   "metadata": {},
   "outputs": [
    {
     "data": {
      "image/png": "[encoded data removed]",
      "text/plain": [
       "<Figure size 1152x360 with 3 Axes>"
      ]
     },
     "metadata": {
      "needs_background": "light"
     },
     "output_type": "display_data"
    }
   ],
   "source": [
    "#Univariate and bivariate distribution of Vitamin D Level\n",
    "plt.figure(figsize = [16,5])\n",
    "plt.suptitle(\"Visual exploration of Patient's Vitamin D Level\")\n",
    "\n",
    "# LEFT plot: Univariate exploration of vit_d_level\n",
    "plt.subplot(1, 2, 1)\n",
    "plt.title('Distribution of Patient Vitamin D Level')\n",
    "bins = np.arange(9, 27, 0.5)\n",
    "plt.hist(data=regress_df, x=\"vit_d_level\", bins=bins)\n",
    "plt.xlabel('Patient Vitamin D Level')\n",
    "plt.ylabel(\"Number of Patients\");\n",
    "\n",
    "# RIGHT plot: Bivariate exploration of vit_d_level vs arthritis\n",
    "plt.subplot(1, 2, 2)\n",
    "plt.title(\"Relationship of Vitamin D Level vs Arthritis\")\n",
    "bins_y = np.arange(0, 1.25, 0.5)\n",
    "plt.hist2d(data= regress_df, x=\"vit_d_level\", y=\"arthritis\", bins=[bins, bins_y], cmap= \"viridis_r\")\n",
    "plt.colorbar()\n",
    "plt.xlabel(\"Patient Vitamin D Level\")\n",
    "plt.ylabel(\"Patient Arthritis\")\n",
    "plt.yticks([0,1], [\"False\", \"True\"]);"
   ]
  },
  {
   "cell_type": "code",
   "execution_count": 25,
   "id": "4dff4816",
   "metadata": {},
   "outputs": [
    {
     "data": {
      "image/png": "[encoded data removed]",
      "text/plain": [
       "<Figure size 1152x360 with 2 Axes>"
      ]
     },
     "metadata": {
      "needs_background": "light"
     },
     "output_type": "display_data"
    }
   ],
   "source": [
    "#Univariate and bivariate distribution of Initial Admissions\n",
    "plt.figure(figsize = [16,5])\n",
    "plt.suptitle(\"Visual exploration of Patient's Initial Admissions\")\n",
    "\n",
    "# LEFT plot: Univariate exploration of initial_admin\n",
    "plt.subplot(1, 2, 1)\n",
    "plt.title(\"Patient Initial Admission Distribution\")\n",
    "init_admit_counts = df[\"Initial_admin\"].value_counts()\n",
    "plt.pie(init_admit_counts, labels=init_admit_counts.index, autopct='%1.1f%%', startangle=90, counterclock = False)\n",
    "plt.axis('square');\n",
    "\n",
    "# RIGHT plot: Bivariate exploration of Initial_admin vs arthritis\n",
    "plt.subplot(1, 2, 2)\n",
    "plt.title(\"Relationship of Initial Admission vs Arthritis\")\n",
    "sb.countplot(data = df, x=\"Initial_admin\", hue=\"BackPain\")\n",
    "plt.legend([\"No Arthritis\", \"Arthritis\"])\n",
    "plt.xlabel(\"Patient Admission Type\")\n",
    "plt.ylabel(\"Number of Patients\");"
   ]
  },
  {
   "cell_type": "code",
   "execution_count": 26,
   "id": "2c324c40",
   "metadata": {},
   "outputs": [
    {
     "data": {
      "image/png": "[encoded data removed]",
      "text/plain": [
       "<Figure size 432x288 with 1 Axes>"
      ]
     },
     "metadata": {},
     "output_type": "display_data"
    },
    {
     "data": {
      "image/png": "[encoded data removed]",
      "text/plain": [
       "<Figure size 432x288 with 3 Axes>"
      ]
     },
     "metadata": {
      "needs_background": "light"
     },
     "output_type": "display_data"
    }
   ],
   "source": [
    "#Univariate and bivariate distribution of High Blood pressure\n",
    "# TOP plot: Univariate exploration of high bp\n",
    "plt.title(\"Patient High Blood Pressure Distribution\")\n",
    "high_bp_counts = df[\"HighBlood\"].value_counts()\n",
    "plt.pie(high_bp_counts, labels=[\"Normal BP\", \"High BP\"], autopct='%1.1f%%', startangle=90, counterclock = False)\n",
    "plt.axis('square');\n",
    "\n",
    "# BOTTOM plot: Bivariate exploration of high bp vs arthritis\n",
    "temp_df = df[[\"HighBlood\", \"BackPain\"]].copy()\n",
    "high_bp_map = {1 : \"HighBP\", 0: \"NormBP\"}\n",
    "arthritis_map = {1 : \"Arthritis\", 0: \"No Arthritis\"}\n",
    "temp_df[\"HighBlood\"] = temp_df[\"HighBlood\"].map(high_bp_map)\n",
    "temp_df[\"BackPain\"] = temp_df[\"BackPain\"].map(arthritis_map)\n",
    "mosaic(temp_df, [\"HighBlood\", \"BackPain\"])\n",
    "plt.suptitle(\"Relationship of High Blood Pressure vs Arthritis\");"
   ]
  },
  {
   "cell_type": "code",
   "execution_count": 27,
   "id": "40212f94",
   "metadata": {},
   "outputs": [
    {
     "data": {
      "image/png": "[encoded data removed]",
      "text/plain": [
       "<Figure size 1152x360 with 2 Axes>"
      ]
     },
     "metadata": {
      "needs_background": "light"
     },
     "output_type": "display_data"
    }
   ],
   "source": [
    "#Univariate and bivariate distribution of Complication Risk\n",
    "plt.figure(figsize = [16,5])\n",
    "plt.suptitle(\"Visualization exploration of Patient's Complication Risk'\")\n",
    "\n",
    "# LEFT plot: Univariate exploration of complication_risk\n",
    "plt.subplot(1, 2, 1)\n",
    "plt.title(\"Patient Complication Risk Distribution\")\n",
    "comp_risk_counts = df[\"Complication_risk\"].value_counts()\n",
    "comp_risk_labels = [\"Medium\", \"High\", \"Low\"]\n",
    "plt.pie(comp_risk_counts, labels=comp_risk_counts.index, autopct='%1.1f%%', startangle=90, counterclock = False)\n",
    "plt.axis('square');\n",
    "\n",
    "# RIGHT plot: Bivariate exploration of complication_risk vs arthritis\n",
    "plt.subplot(1, 2, 2)\n",
    "plt.title(\"Relationship of Complication Risk vs Arthritis\")\n",
    "sb.countplot(data = df, x=\"Complication_risk\", hue=\"BackPain\")\n",
    "plt.legend([\"No Arthritis\", \"Arthritis\"])\n",
    "plt.xlabel(\"Patient Admission Type\")\n",
    "plt.ylabel(\"Number of Patients\");"
   ]
  },
  {
   "cell_type": "code",
   "execution_count": 28,
   "id": "63446cb6",
   "metadata": {},
   "outputs": [
    {
     "data": {
      "image/png": "[encoded data removed]",
      "text/plain": [
       "<Figure size 432x288 with 1 Axes>"
      ]
     },
     "metadata": {},
     "output_type": "display_data"
    },
    {
     "data": {
      "image/png": "[encoded data removed]",
      "text/plain": [
       "<Figure size 432x288 with 3 Axes>"
      ]
     },
     "metadata": {
      "needs_background": "light"
     },
     "output_type": "display_data"
    }
   ],
   "source": [
    "#Univariate and bivariate distribution of Overweight\n",
    "# TOP plot: Univariate exploration of overweight\n",
    "plt.title(\"Patient Overweight Distribution\")\n",
    "overweight_counts = df[\"Overweight\"].value_counts().sort_index()\n",
    "plt.pie(overweight_counts, labels=[\"Not Overweight\", \"Overweight\"], autopct='%1.1f%%', startangle=90, counterclock = False)\n",
    "plt.axis('square');\n",
    "\n",
    "# BOTTOM plot: Bivariate exploration of overweight vs arthritis\n",
    "temp_df = df[[\"Overweight\", \"BackPain\"]].copy()\n",
    "overweight_map = {1 : \"Overweight\", 0: \"NotOverweight\"}\n",
    "arthritis_map = {1 : \"Arthritis\", 0: \"No Arthritis\"}\n",
    "temp_df[\"Overweight\"] = temp_df[\"Overweight\"].map(overweight_map)\n",
    "temp_df[\"BackPain\"] = temp_df[\"BackPain\"].map(arthritis_map)\n",
    "mosaic(temp_df, [\"Overweight\", \"BackPain\"])\n",
    "plt.suptitle(\"Relationship of Overweight vs Arthritis\");"
   ]
  },
  {
   "cell_type": "code",
   "execution_count": 29,
   "id": "cbe440f7",
   "metadata": {},
   "outputs": [
    {
     "data": {
      "image/png": "[encoded data removed]",
      "text/plain": [
       "<Figure size 432x288 with 1 Axes>"
      ]
     },
     "metadata": {},
     "output_type": "display_data"
    },
    {
     "data": {
      "image/png": "[encoded data removed]",
      "text/plain": [
       "<Figure size 432x288 with 3 Axes>"
      ]
     },
     "metadata": {
      "needs_background": "light"
     },
     "output_type": "display_data"
    }
   ],
   "source": [
    "#Univariate and bivariate distribution of BackPain\n",
    "# TOP plot: Univariate exploration of arthritis\n",
    "plt.title(\"Patient BackPain Distribution\")\n",
    "back_pain_counts = df[\"BackPain\"].value_counts().sort_index()\n",
    "plt.pie(arthritis_counts, labels=[\"No Back Pain\", \"Back Pain\"], autopct='%1.1f%%', startangle=90, counterclock = False)\n",
    "plt.axis('square');\n",
    "\n",
    "# BOTTOM plot: Bivariate exploration of arthritis vs back_pain\n",
    "temp_df = df[[\"Arthritis\", \"BackPain\"]].copy()\n",
    "back_pain_map = {1 : \"Back Pain\", 0: \"No Back Pain\"}\n",
    "arthritis_map = {1 : \"Arthritis\", 0: \"No Arthritis\"}\n",
    "temp_df[\"BackPain\"] = temp_df[\"BackPain\"].map(back_pain_map)\n",
    "temp_df[\"Arthritis\"] = temp_df[\"Arthritis\"].map(arthritis_map)\n",
    "mosaic(temp_df, [\"Arthritis\", \"BackPain\"])\n",
    "plt.suptitle(\"Relationship of Back Pain vs Arthritis\");"
   ]
  },
  {
   "cell_type": "code",
   "execution_count": 30,
   "id": "2eb06857",
   "metadata": {},
   "outputs": [
    {
     "data": {
      "image/png": "[encoded data removed]",
      "text/plain": [
       "<Figure size 432x288 with 1 Axes>"
      ]
     },
     "metadata": {},
     "output_type": "display_data"
    },
    {
     "data": {
      "image/png": "[encoded data removed]",
      "text/plain": [
       "<Figure size 432x288 with 3 Axes>"
      ]
     },
     "metadata": {
      "needs_background": "light"
     },
     "output_type": "display_data"
    }
   ],
   "source": [
    "#Univariate and bivariate distribution of Diabetes\n",
    "# TOP plot: Univariate exploration of diabetes\n",
    "plt.title(\"Patient Diabetes Distribution\")\n",
    "diabetes_counts = df[\"Diabetes\"].value_counts().sort_index()\n",
    "plt.pie(diabetes_counts, labels=[\"No Diabetes\", \"Diabetes\"], autopct='%1.1f%%', startangle=90, counterclock = False)\n",
    "plt.axis('square');\n",
    "\n",
    "# BOTTOM plot: Bivariate exploration of diabetes vs arthritis\n",
    "temp_df = df[[\"Diabetes\", \"BackPain\"]].copy()\n",
    "diabetes_map = {1 : \"Diabetes\", 0: \"No Diabetes\"}\n",
    "arthritis_map = {1 : \"Arthritis\", 0: \"No Arthritis\"}\n",
    "temp_df[\"Diabetes\"] = temp_df[\"Diabetes\"].map(diabetes_map)\n",
    "temp_df[\"BackPain\"] = temp_df[\"BackPain\"].map(arthritis_map)\n",
    "mosaic(temp_df, [\"Diabetes\", \"BackPain\"])\n",
    "plt.suptitle(\"Relationship of Diabetes vs Arthritis\");"
   ]
  },
  {
   "cell_type": "code",
   "execution_count": 31,
   "id": "825d8ea5",
   "metadata": {},
   "outputs": [
    {
     "data": {
      "image/png": "[encoded data removed]",
      "text/plain": [
       "<Figure size 432x288 with 1 Axes>"
      ]
     },
     "metadata": {},
     "output_type": "display_data"
    },
    {
     "data": {
      "image/png": "[encoded data removed]",
      "text/plain": [
       "<Figure size 432x288 with 3 Axes>"
      ]
     },
     "metadata": {
      "needs_background": "light"
     },
     "output_type": "display_data"
    }
   ],
   "source": [
    "#Univariate and bivariate distribution of Asthma\n",
    "# TOP plot: Univariate exploration of asthma\n",
    "plt.title(\"Patient Asthma Distribution\")\n",
    "asthma_counts = df[\"Asthma\"].value_counts()\n",
    "plt.pie(asthma_counts, labels=[\"No Asthma\", \"Asthma\"], autopct='%1.1f%%', startangle=90, counterclock = False)\n",
    "plt.axis('square');\n",
    "\n",
    "# BOTTOM plot: Bivariate exploration of asthma vs arthritis\n",
    "temp_df = df[[\"Asthma\", \"BackPain\"]].copy()\n",
    "asthma_map = {1 : \"Asthma\", 0: \"No Asthma\"}\n",
    "arthritis_map = {1 : \"Arthritis\", 0: \"No Arthritis\"}\n",
    "temp_df[\"Asthma\"] = temp_df[\"Asthma\"].map(asthma_map)\n",
    "temp_df[\"BackPain\"] = temp_df[\"BackPain\"].map(arthritis_map)\n",
    "mosaic(temp_df, [\"Asthma\", \"BackPain\"])\n",
    "plt.suptitle(\"Relationship of Asthma vs Arthritis\");"
   ]
  },
  {
   "cell_type": "code",
   "execution_count": 32,
   "id": "00847e7f",
   "metadata": {},
   "outputs": [
    {
     "data": {
      "image/png": "[encoded data removed]",
      "text/plain": [
       "<Figure size 1152x360 with 3 Axes>"
      ]
     },
     "metadata": {
      "needs_background": "light"
     },
     "output_type": "display_data"
    }
   ],
   "source": [
    "#Univariate and bivariate distribution of Days Hospitalized\n",
    "plt.figure(figsize = [16,5])\n",
    "plt.suptitle(\"Visual exploration of Patient's Days Hospitalized\")\n",
    "\n",
    "# LEFT plot: Univariate exploration of days_hospitalized\n",
    "plt.subplot(1, 2, 1)\n",
    "plt.title('Distribution of Patient Days Hospitalized')\n",
    "bins = np.arange(0, 75, 1)\n",
    "plt.hist(data=regress_df, x=\"days_hospitalized\", bins=bins)\n",
    "plt.xlabel('Patient Days Hospitalized')\n",
    "plt.ylabel(\"Number of Patients\");\n",
    "\n",
    "# RIGHT plot: Bivariate exploration of days_hospitalized vs arthritis\n",
    "plt.subplot(1, 2, 2)\n",
    "plt.title(\"Relationship of Days Hospitalized vs Arthritis\")\n",
    "bins_y = np.arange(0, 1.25, 0.5)\n",
    "plt.hist2d(data= regress_df, x=\"days_hospitalized\", y=\"arthritis\", bins=[bins, bins_y], cmap= \"viridis_r\")\n",
    "plt.colorbar()\n",
    "plt.xlabel(\"Patient Days Hospitalized\")\n",
    "plt.ylabel(\"Patient Arthritis\")\n",
    "plt.yticks([0,1], [\"False\", \"True\"]);"
   ]
  },
  {
   "cell_type": "code",
   "execution_count": 33,
   "id": "edf21d93",
   "metadata": {},
   "outputs": [],
   "source": [
    "# Save dataframe to CSV\n",
    "df.to_csv('d208task2_full_clean.csv', index=False)\n",
    "\n",
    "# Save dataframe to CSV\n",
    "regress_df.to_csv('d208task2_red_clean.csv', index=False)"
   ]
  },
  {
   "cell_type": "code",
   "execution_count": 34,
   "id": "658e4b9b",
   "metadata": {},
   "outputs": [
    {
     "name": "stdout",
     "output_type": "stream",
     "text": [
      "                 feature        vif\n",
      "0                    age   7.241869\n",
      "1            gender_male   1.925995\n",
      "2       gender_nonbinary   1.043023\n",
      "3            vit_d_level  16.271274\n",
      "4   initial_admit_observ   1.937244\n",
      "5    initial_admit_emerg   2.958304\n",
      "6                high_bp   1.686147\n",
      "7          comp_risk_low   1.616292\n",
      "8       comp_risk_medium   2.314051\n",
      "9             overweight   3.371494\n",
      "10             back_pain   1.691642\n",
      "11              diabetes   1.368503\n",
      "12                asthma   1.404802\n",
      "13     days_hospitalized   2.671751\n"
     ]
    }
   ],
   "source": [
    "# Check for VIF to determine if variables should be eliminated due to high multicolinearity\n",
    "# Selecting the features for VIF calculation\n",
    "X = regress_df[[\"age\", \"gender_male\", \"gender_nonbinary\", \"vit_d_level\", \"initial_admit_observ\", \"initial_admit_emerg\", \"high_bp\", \"comp_risk_low\", \"comp_risk_medium\", \"overweight\", \"back_pain\", \"diabetes\", \"asthma\", \"days_hospitalized\"]]\n",
    "\n",
    "# Calculating VIF for each feature\n",
    "vif_df = pd.DataFrame()\n",
    "vif_df[\"feature\"] = X.columns\n",
    "vif_df[\"vif\"] = [variance_inflation_factor(X.values, i) for i in range(X.shape[1])]\n",
    "\n",
    "print(vif_df)"
   ]
  },
  {
   "cell_type": "code",
   "execution_count": 35,
   "id": "44c7b9e3",
   "metadata": {},
   "outputs": [
    {
     "name": "stdout",
     "output_type": "stream",
     "text": [
      "Optimization terminated successfully.\n",
      "         Current function value: 0.651068\n",
      "         Iterations 4\n",
      "                           Logit Regression Results                           \n",
      "==============================================================================\n",
      "Dep. Variable:              arthritis   No. Observations:                10000\n",
      "Model:                          Logit   Df Residuals:                     9985\n",
      "Method:                           MLE   Df Model:                           14\n",
      "Date:                Sun, 22 Oct 2023   Pseudo R-squ.:                0.001288\n",
      "Time:                        19:14:59   Log-Likelihood:                -6510.7\n",
      "converged:                       True   LL-Null:                       -6519.1\n",
      "Covariance Type:            nonrobust   LLR p-value:                    0.2675\n",
      "========================================================================================\n",
      "                           coef    std err          z      P>|z|      [0.025      0.975]\n",
      "----------------------------------------------------------------------------------------\n",
      "age                      0.0008      0.001      0.747      0.455      -0.001       0.003\n",
      "gender_male              0.0396      0.042      0.936      0.349      -0.043       0.122\n",
      "gender_nonbinary         0.1982      0.143      1.386      0.166      -0.082       0.478\n",
      "vit_d_level          -2.453e-05      0.010     -0.002      0.998      -0.020       0.020\n",
      "initial_admit_observ    -0.0007      0.059     -0.012      0.991      -0.117       0.116\n",
      "initial_admit_emerg     -0.0005      0.051     -0.010      0.992      -0.101       0.100\n",
      "high_bp                  0.0307      0.042      0.723      0.470      -0.053       0.114\n",
      "comp_risk_low            0.0752      0.058      1.295      0.195      -0.039       0.189\n",
      "comp_risk_medium         0.1020      0.048      2.137      0.033       0.008       0.196\n",
      "overweight               0.0186      0.046      0.404      0.686      -0.072       0.109\n",
      "back_pain               -0.0822      0.043     -1.931      0.053      -0.166       0.001\n",
      "diabetes                 0.0422      0.047      0.902      0.367      -0.049       0.134\n",
      "asthma                  -0.0301      0.046     -0.652      0.515      -0.121       0.060\n",
      "days_hospitalized        0.0015      0.001      1.899      0.058   -4.82e-05       0.003\n",
      "const                   -0.7592      0.208     -3.659      0.000      -1.166      -0.353\n",
      "========================================================================================\n"
     ]
    }
   ],
   "source": [
    "#Create the Initial Logistic Regression model\n",
    "y = regress_df.arthritis\n",
    "X = regress_df[[\"age\", \"gender_male\", \"gender_nonbinary\", \"vit_d_level\", \"initial_admit_observ\", \"initial_admit_emerg\", \"high_bp\", \"comp_risk_low\", \"comp_risk_medium\", \"overweight\", \"back_pain\", \"diabetes\", \"asthma\", \"days_hospitalized\"]].assign(const=1)\n",
    "logit_model=sm.Logit(y,X)\n",
    "result=logit_model.fit()\n",
    "print(result.summary())"
   ]
  },
  {
   "cell_type": "code",
   "execution_count": 36,
   "id": "684b4b91",
   "metadata": {},
   "outputs": [
    {
     "name": "stdout",
     "output_type": "stream",
     "text": [
      "                 feature        VIF\n",
      "0                    age   7.241869\n",
      "1            gender_male   1.925995\n",
      "2       gender_nonbinary   1.043023\n",
      "3            vit_d_level  16.271274\n",
      "4   initial_admit_observ   1.937244\n",
      "5    initial_admit_emerg   2.958304\n",
      "6                high_bp   1.686147\n",
      "7          comp_risk_low   1.616292\n",
      "8       comp_risk_medium   2.314051\n",
      "9             overweight   3.371494\n",
      "10             back_pain   1.691642\n",
      "11              diabetes   1.368503\n",
      "12                asthma   1.404802\n",
      "13     days_hospitalized   2.671751\n"
     ]
    }
   ],
   "source": [
    "# Check for VIF to see if variables should be eliminated due to high multicolinearity\n",
    "X = regress_df[[\"age\", \"gender_male\", \"gender_nonbinary\", \"vit_d_level\", \"initial_admit_observ\", \"initial_admit_emerg\", \"high_bp\", \"comp_risk_low\", \"comp_risk_medium\", \"overweight\", \"back_pain\", \"diabetes\", \"asthma\", \"days_hospitalized\"]]\n",
    "\n",
    "vif_df = pd.DataFrame()\n",
    "vif_df[\"feature\"] = X.columns\n",
    "\n",
    "vif_df[\"VIF\"] = [variance_inflation_factor(X.values, i)\n",
    "for i in range(len(X.columns))]\n",
    "\n",
    "print(vif_df)"
   ]
  },
  {
   "cell_type": "code",
   "execution_count": 37,
   "id": "bc95acf3",
   "metadata": {},
   "outputs": [
    {
     "name": "stdout",
     "output_type": "stream",
     "text": [
      "                 feature       VIF\n",
      "0                    age  5.106574\n",
      "1            gender_male  1.841550\n",
      "2       gender_nonbinary  1.039726\n",
      "3   initial_admit_observ  1.777416\n",
      "4    initial_admit_emerg  2.587708\n",
      "5                high_bp  1.644376\n",
      "6          comp_risk_low  1.548105\n",
      "7       comp_risk_medium  2.162291\n",
      "8             overweight  3.028072\n",
      "9              back_pain  1.658025\n",
      "10              diabetes  1.350051\n",
      "11                asthma  1.385518\n",
      "12     days_hospitalized  2.493187\n"
     ]
    }
   ],
   "source": [
    "# Eliminated vit_d_level (VIF = 16.271274), rerunning analysis to see if any VIF still above 10 \n",
    "X = regress_df[[\"age\", \"gender_male\", \"gender_nonbinary\", \"initial_admit_observ\", \"initial_admit_emerg\", \"high_bp\", \"comp_risk_low\", \"comp_risk_medium\", \"overweight\", \"back_pain\", \"diabetes\", \"asthma\", \"days_hospitalized\"]]\n",
    "\n",
    "vif_df = pd.DataFrame()\n",
    "vif_df[\"feature\"] = X.columns\n",
    "\n",
    "vif_df[\"VIF\"] = [variance_inflation_factor(X.values, i)\n",
    "for i in range(len(X.columns))]\n",
    "\n",
    "print(vif_df)"
   ]
  },
  {
   "cell_type": "code",
   "execution_count": 38,
   "id": "97e68b1c",
   "metadata": {},
   "outputs": [
    {
     "name": "stdout",
     "output_type": "stream",
     "text": [
      "Optimization terminated successfully.\n",
      "         Current function value: 0.651068\n",
      "         Iterations 4\n",
      "                           Logit Regression Results                           \n",
      "==============================================================================\n",
      "Dep. Variable:              arthritis   No. Observations:                10000\n",
      "Model:                          Logit   Df Residuals:                     9986\n",
      "Method:                           MLE   Df Model:                           13\n",
      "Date:                Sun, 22 Oct 2023   Pseudo R-squ.:                0.001288\n",
      "Time:                        19:14:59   Log-Likelihood:                -6510.7\n",
      "converged:                       True   LL-Null:                       -6519.1\n",
      "Covariance Type:            nonrobust   LLR p-value:                    0.2091\n",
      "========================================================================================\n",
      "                           coef    std err          z      P>|z|      [0.025      0.975]\n",
      "----------------------------------------------------------------------------------------\n",
      "age                      0.0008      0.001      0.747      0.455      -0.001       0.003\n",
      "gender_male              0.0396      0.042      0.936      0.349      -0.043       0.122\n",
      "gender_nonbinary         0.1982      0.143      1.386      0.166      -0.082       0.478\n",
      "initial_admit_observ    -0.0007      0.059     -0.012      0.991      -0.117       0.116\n",
      "initial_admit_emerg     -0.0005      0.051     -0.010      0.992      -0.101       0.100\n",
      "high_bp                  0.0307      0.042      0.723      0.470      -0.053       0.114\n",
      "comp_risk_low            0.0752      0.058      1.295      0.195      -0.039       0.189\n",
      "comp_risk_medium         0.1020      0.048      2.137      0.033       0.008       0.196\n",
      "overweight               0.0186      0.046      0.404      0.686      -0.072       0.109\n",
      "back_pain               -0.0822      0.043     -1.931      0.053      -0.166       0.001\n",
      "diabetes                 0.0422      0.047      0.903      0.367      -0.049       0.134\n",
      "asthma                  -0.0301      0.046     -0.652      0.515      -0.121       0.060\n",
      "days_hospitalized        0.0015      0.001      1.899      0.058   -4.82e-05       0.003\n",
      "const                   -0.7597      0.094     -8.119      0.000      -0.943      -0.576\n",
      "========================================================================================\n"
     ]
    }
   ],
   "source": [
    "# BACKWARD ELIMINATION # 1: Seek highest p-value above 0.10\n",
    "y = regress_df.arthritis\n",
    "X = regress_df[[\"age\", \"gender_male\", \"gender_nonbinary\", \"initial_admit_observ\", \"initial_admit_emerg\", \"high_bp\", \"comp_risk_low\", \"comp_risk_medium\", \"overweight\", \"back_pain\", \"diabetes\", \"asthma\", \"days_hospitalized\"]].assign(const=1)\n",
    "logit_model=sm.Logit(y,X)\n",
    "result=logit_model.fit()\n",
    "print(result.summary())"
   ]
  },
  {
   "cell_type": "code",
   "execution_count": 39,
   "id": "36f41d73",
   "metadata": {},
   "outputs": [
    {
     "name": "stdout",
     "output_type": "stream",
     "text": [
      "Optimization terminated successfully.\n",
      "         Current function value: 0.651068\n",
      "         Iterations 4\n",
      "                           Logit Regression Results                           \n",
      "==============================================================================\n",
      "Dep. Variable:              arthritis   No. Observations:                10000\n",
      "Model:                          Logit   Df Residuals:                     9987\n",
      "Method:                           MLE   Df Model:                           12\n",
      "Date:                Sun, 22 Oct 2023   Pseudo R-squ.:                0.001288\n",
      "Time:                        19:14:59   Log-Likelihood:                -6510.7\n",
      "converged:                       True   LL-Null:                       -6519.1\n",
      "Covariance Type:            nonrobust   LLR p-value:                    0.1577\n",
      "========================================================================================\n",
      "                           coef    std err          z      P>|z|      [0.025      0.975]\n",
      "----------------------------------------------------------------------------------------\n",
      "age                      0.0008      0.001      0.747      0.455      -0.001       0.003\n",
      "gender_male              0.0396      0.042      0.936      0.349      -0.043       0.122\n",
      "gender_nonbinary         0.1982      0.143      1.386      0.166      -0.082       0.478\n",
      "initial_admit_observ    -0.0004      0.049     -0.008      0.994      -0.096       0.095\n",
      "high_bp                  0.0307      0.042      0.723      0.470      -0.053       0.114\n",
      "comp_risk_low            0.0752      0.058      1.295      0.195      -0.039       0.189\n",
      "comp_risk_medium         0.1020      0.048      2.137      0.033       0.008       0.196\n",
      "overweight               0.0186      0.046      0.404      0.686      -0.072       0.109\n",
      "back_pain               -0.0822      0.043     -1.931      0.053      -0.166       0.001\n",
      "diabetes                 0.0422      0.047      0.903      0.367      -0.049       0.134\n",
      "asthma                  -0.0301      0.046     -0.652      0.515      -0.121       0.060\n",
      "days_hospitalized        0.0015      0.001      1.900      0.057    -4.8e-05       0.003\n",
      "const                   -0.7600      0.087     -8.776      0.000      -0.930      -0.590\n",
      "========================================================================================\n"
     ]
    }
   ],
   "source": [
    "# BACKWARD ELIMINATION # 2: Seek highest p-value above 0.10 (eliminated initial_admit_emerg, p-value of 0.992)\n",
    "y = regress_df.arthritis\n",
    "X = regress_df[[\"age\", \"gender_male\", \"gender_nonbinary\", \"initial_admit_observ\", \"high_bp\", \"comp_risk_low\", \"comp_risk_medium\", \"overweight\", \"back_pain\", \"diabetes\", \"asthma\", \"days_hospitalized\"]].assign(const=1)\n",
    "logit_model=sm.Logit(y,X)\n",
    "result=logit_model.fit()\n",
    "print(result.summary())"
   ]
  },
  {
   "cell_type": "code",
   "execution_count": 40,
   "id": "c9fde02d",
   "metadata": {},
   "outputs": [
    {
     "name": "stdout",
     "output_type": "stream",
     "text": [
      "Optimization terminated successfully.\n",
      "         Current function value: 0.651068\n",
      "         Iterations 4\n",
      "                           Logit Regression Results                           \n",
      "==============================================================================\n",
      "Dep. Variable:              arthritis   No. Observations:                10000\n",
      "Model:                          Logit   Df Residuals:                     9988\n",
      "Method:                           MLE   Df Model:                           11\n",
      "Date:                Sun, 22 Oct 2023   Pseudo R-squ.:                0.001288\n",
      "Time:                        19:14:59   Log-Likelihood:                -6510.7\n",
      "converged:                       True   LL-Null:                       -6519.1\n",
      "Covariance Type:            nonrobust   LLR p-value:                    0.1142\n",
      "=====================================================================================\n",
      "                        coef    std err          z      P>|z|      [0.025      0.975]\n",
      "-------------------------------------------------------------------------------------\n",
      "age                   0.0008      0.001      0.747      0.455      -0.001       0.003\n",
      "gender_male           0.0396      0.042      0.937      0.349      -0.043       0.122\n",
      "gender_nonbinary      0.1982      0.143      1.386      0.166      -0.082       0.478\n",
      "high_bp               0.0307      0.042      0.723      0.470      -0.053       0.114\n",
      "comp_risk_low         0.0752      0.058      1.295      0.195      -0.039       0.189\n",
      "comp_risk_medium      0.1020      0.048      2.138      0.033       0.008       0.196\n",
      "overweight            0.0186      0.046      0.404      0.686      -0.072       0.109\n",
      "back_pain            -0.0822      0.043     -1.931      0.053      -0.166       0.001\n",
      "diabetes              0.0422      0.047      0.903      0.367      -0.049       0.134\n",
      "asthma               -0.0301      0.046     -0.652      0.515      -0.121       0.060\n",
      "days_hospitalized     0.0015      0.001      1.900      0.057    -4.8e-05       0.003\n",
      "const                -0.7601      0.086     -8.853      0.000      -0.928      -0.592\n",
      "=====================================================================================\n"
     ]
    }
   ],
   "source": [
    "# BACKWARD ELIMINATION # 3: Seek highest p-value above 0.10 (eliminated initial_admit_observ, p-value of 0.994)\n",
    "y = regress_df.arthritis\n",
    "X = regress_df[[\"age\", \"gender_male\", \"gender_nonbinary\", \"high_bp\", \"comp_risk_low\", \"comp_risk_medium\", \"overweight\", \"back_pain\", \"diabetes\", \"asthma\", \"days_hospitalized\"]].assign(const=1)\n",
    "logit_model=sm.Logit(y,X)\n",
    "result=logit_model.fit()\n",
    "print(result.summary())"
   ]
  },
  {
   "cell_type": "code",
   "execution_count": 41,
   "id": "e7f3a071",
   "metadata": {},
   "outputs": [
    {
     "name": "stdout",
     "output_type": "stream",
     "text": [
      "Optimization terminated successfully.\n",
      "         Current function value: 0.651076\n",
      "         Iterations 4\n",
      "                           Logit Regression Results                           \n",
      "==============================================================================\n",
      "Dep. Variable:              arthritis   No. Observations:                10000\n",
      "Model:                          Logit   Df Residuals:                     9989\n",
      "Method:                           MLE   Df Model:                           10\n",
      "Date:                Sun, 22 Oct 2023   Pseudo R-squ.:                0.001275\n",
      "Time:                        19:15:00   Log-Likelihood:                -6510.8\n",
      "converged:                       True   LL-Null:                       -6519.1\n",
      "Covariance Type:            nonrobust   LLR p-value:                   0.08303\n",
      "=====================================================================================\n",
      "                        coef    std err          z      P>|z|      [0.025      0.975]\n",
      "-------------------------------------------------------------------------------------\n",
      "age                   0.0008      0.001      0.743      0.457      -0.001       0.003\n",
      "gender_male           0.0395      0.042      0.936      0.349      -0.043       0.122\n",
      "gender_nonbinary      0.1984      0.143      1.388      0.165      -0.082       0.479\n",
      "high_bp               0.0312      0.042      0.734      0.463      -0.052       0.114\n",
      "comp_risk_low         0.0752      0.058      1.294      0.196      -0.039       0.189\n",
      "comp_risk_medium      0.1023      0.048      2.144      0.032       0.009       0.196\n",
      "back_pain            -0.0821      0.043     -1.927      0.054      -0.165       0.001\n",
      "diabetes              0.0420      0.047      0.900      0.368      -0.050       0.134\n",
      "asthma               -0.0298      0.046     -0.647      0.518      -0.120       0.061\n",
      "days_hospitalized     0.0015      0.001      1.895      0.058   -5.13e-05       0.003\n",
      "const                -0.7470      0.079     -9.401      0.000      -0.903      -0.591\n",
      "=====================================================================================\n"
     ]
    }
   ],
   "source": [
    "# BACKWARD ELIMINATION # 4: Seek highest p-value above 0.10 (eliminated overweight, p-value of 0.686)\n",
    "y = regress_df.arthritis\n",
    "X = regress_df[[\"age\", \"gender_male\", \"gender_nonbinary\", \"high_bp\", \"comp_risk_low\", \"comp_risk_medium\", \"back_pain\", \"diabetes\", \"asthma\", \"days_hospitalized\"]].assign(const=1)\n",
    "logit_model=sm.Logit(y,X)\n",
    "result=logit_model.fit()\n",
    "print(result.summary())"
   ]
  },
  {
   "cell_type": "code",
   "execution_count": 42,
   "id": "1bfe54b0",
   "metadata": {},
   "outputs": [
    {
     "name": "stdout",
     "output_type": "stream",
     "text": [
      "Optimization terminated successfully.\n",
      "         Current function value: 0.651097\n",
      "         Iterations 4\n",
      "                           Logit Regression Results                           \n",
      "==============================================================================\n",
      "Dep. Variable:              arthritis   No. Observations:                10000\n",
      "Model:                          Logit   Df Residuals:                     9990\n",
      "Method:                           MLE   Df Model:                            9\n",
      "Date:                Sun, 22 Oct 2023   Pseudo R-squ.:                0.001243\n",
      "Time:                        19:15:00   Log-Likelihood:                -6511.0\n",
      "converged:                       True   LL-Null:                       -6519.1\n",
      "Covariance Type:            nonrobust   LLR p-value:                   0.06265\n",
      "=====================================================================================\n",
      "                        coef    std err          z      P>|z|      [0.025      0.975]\n",
      "-------------------------------------------------------------------------------------\n",
      "age                   0.0007      0.001      0.737      0.461      -0.001       0.003\n",
      "gender_male           0.0394      0.042      0.932      0.351      -0.043       0.122\n",
      "gender_nonbinary      0.1980      0.143      1.385      0.166      -0.082       0.478\n",
      "high_bp               0.0310      0.042      0.729      0.466      -0.052       0.114\n",
      "comp_risk_low         0.0749      0.058      1.289      0.197      -0.039       0.189\n",
      "comp_risk_medium      0.1020      0.048      2.138      0.033       0.008       0.196\n",
      "back_pain            -0.0824      0.043     -1.937      0.053      -0.166       0.001\n",
      "diabetes              0.0415      0.047      0.889      0.374      -0.050       0.133\n",
      "days_hospitalized     0.0015      0.001      1.905      0.057   -4.39e-05       0.003\n",
      "const                -0.7549      0.079     -9.613      0.000      -0.909      -0.601\n",
      "=====================================================================================\n"
     ]
    }
   ],
   "source": [
    "# BACKWARD ELIMINATION # 5: Seek highest p-value above 0.10 (eliminated asthma, p-value of 0.518)\n",
    "y = regress_df.arthritis\n",
    "X = regress_df[[\"age\", \"gender_male\", \"gender_nonbinary\", \"high_bp\", \"comp_risk_low\", \"comp_risk_medium\", \"back_pain\", \"diabetes\", \"days_hospitalized\"]].assign(const=1)\n",
    "logit_model=sm.Logit(y,X)\n",
    "result=logit_model.fit()\n",
    "print(result.summary())"
   ]
  },
  {
   "cell_type": "code",
   "execution_count": 43,
   "id": "50874b7e",
   "metadata": {},
   "outputs": [
    {
     "name": "stdout",
     "output_type": "stream",
     "text": [
      "Optimization terminated successfully.\n",
      "         Current function value: 0.651124\n",
      "         Iterations 4\n",
      "                           Logit Regression Results                           \n",
      "==============================================================================\n",
      "Dep. Variable:              arthritis   No. Observations:                10000\n",
      "Model:                          Logit   Df Residuals:                     9991\n",
      "Method:                           MLE   Df Model:                            8\n",
      "Date:                Sun, 22 Oct 2023   Pseudo R-squ.:                0.001201\n",
      "Time:                        19:15:00   Log-Likelihood:                -6511.2\n",
      "converged:                       True   LL-Null:                       -6519.1\n",
      "Covariance Type:            nonrobust   LLR p-value:                   0.04744\n",
      "=====================================================================================\n",
      "                        coef    std err          z      P>|z|      [0.025      0.975]\n",
      "-------------------------------------------------------------------------------------\n",
      "gender_male           0.0389      0.042      0.921      0.357      -0.044       0.122\n",
      "gender_nonbinary      0.1980      0.143      1.386      0.166      -0.082       0.478\n",
      "high_bp               0.0312      0.042      0.735      0.462      -0.052       0.114\n",
      "comp_risk_low         0.0747      0.058      1.287      0.198      -0.039       0.189\n",
      "comp_risk_medium      0.1018      0.048      2.133      0.033       0.008       0.195\n",
      "back_pain            -0.0818      0.043     -1.922      0.055      -0.165       0.002\n",
      "diabetes              0.0416      0.047      0.892      0.373      -0.050       0.133\n",
      "days_hospitalized     0.0015      0.001      1.917      0.055   -3.45e-05       0.003\n",
      "const                -0.7152      0.057    -12.509      0.000      -0.827      -0.603\n",
      "=====================================================================================\n"
     ]
    }
   ],
   "source": [
    "# BACKWARD ELIMINATION # 6: Seek highest p-value above 0.10 (eliminated age, p-value of 0.461)\n",
    "y = regress_df.arthritis\n",
    "X = regress_df[[\"gender_male\", \"gender_nonbinary\", \"high_bp\", \"comp_risk_low\", \"comp_risk_medium\", \"back_pain\", \"diabetes\", \"days_hospitalized\"]].assign(const=1)\n",
    "logit_model=sm.Logit(y,X)\n",
    "result=logit_model.fit()\n",
    "print(result.summary())"
   ]
  },
  {
   "cell_type": "code",
   "execution_count": 44,
   "id": "62055824",
   "metadata": {},
   "outputs": [
    {
     "name": "stdout",
     "output_type": "stream",
     "text": [
      "Optimization terminated successfully.\n",
      "         Current function value: 0.651167\n",
      "         Iterations 4\n",
      "                           Logit Regression Results                           \n",
      "==============================================================================\n",
      "Dep. Variable:              arthritis   No. Observations:                10000\n",
      "Model:                          Logit   Df Residuals:                     9992\n",
      "Method:                           MLE   Df Model:                            7\n",
      "Date:                Sun, 22 Oct 2023   Pseudo R-squ.:                0.001136\n",
      "Time:                        19:15:00   Log-Likelihood:                -6511.7\n",
      "converged:                       True   LL-Null:                       -6519.1\n",
      "Covariance Type:            nonrobust   LLR p-value:                   0.03842\n",
      "=====================================================================================\n",
      "                        coef    std err          z      P>|z|      [0.025      0.975]\n",
      "-------------------------------------------------------------------------------------\n",
      "gender_nonbinary      0.1790      0.141      1.266      0.206      -0.098       0.456\n",
      "high_bp               0.0315      0.042      0.741      0.459      -0.052       0.115\n",
      "comp_risk_low         0.0746      0.058      1.285      0.199      -0.039       0.188\n",
      "comp_risk_medium      0.1021      0.048      2.139      0.032       0.009       0.196\n",
      "back_pain            -0.0823      0.043     -1.934      0.053      -0.166       0.001\n",
      "diabetes              0.0416      0.047      0.890      0.374      -0.050       0.133\n",
      "days_hospitalized     0.0015      0.001      1.924      0.054   -2.86e-05       0.003\n",
      "const                -0.6964      0.053    -13.050      0.000      -0.801      -0.592\n",
      "=====================================================================================\n"
     ]
    }
   ],
   "source": [
    "# BACKWARD ELIMINATION # 7: Seek highest p-value above 0.10 (eliminated gender_male, p-value of 0.357)\n",
    "y = regress_df.arthritis\n",
    "X = regress_df[[\"gender_nonbinary\", \"high_bp\", \"comp_risk_low\", \"comp_risk_medium\", \"back_pain\", \"diabetes\", \"days_hospitalized\"]].assign(const=1)\n",
    "logit_model=sm.Logit(y,X)\n",
    "result=logit_model.fit()\n",
    "print(result.summary())"
   ]
  },
  {
   "cell_type": "code",
   "execution_count": 45,
   "id": "d749f022",
   "metadata": {},
   "outputs": [
    {
     "name": "stdout",
     "output_type": "stream",
     "text": [
      "Optimization terminated successfully.\n",
      "         Current function value: 0.651194\n",
      "         Iterations 4\n",
      "                           Logit Regression Results                           \n",
      "==============================================================================\n",
      "Dep. Variable:              arthritis   No. Observations:                10000\n",
      "Model:                          Logit   Df Residuals:                     9993\n",
      "Method:                           MLE   Df Model:                            6\n",
      "Date:                Sun, 22 Oct 2023   Pseudo R-squ.:                0.001094\n",
      "Time:                        19:15:00   Log-Likelihood:                -6511.9\n",
      "converged:                       True   LL-Null:                       -6519.1\n",
      "Covariance Type:            nonrobust   LLR p-value:                   0.02678\n",
      "=====================================================================================\n",
      "                        coef    std err          z      P>|z|      [0.025      0.975]\n",
      "-------------------------------------------------------------------------------------\n",
      "gender_nonbinary      0.1806      0.141      1.277      0.202      -0.097       0.458\n",
      "comp_risk_low         0.0736      0.058      1.268      0.205      -0.040       0.187\n",
      "comp_risk_medium      0.1021      0.048      2.140      0.032       0.009       0.196\n",
      "back_pain            -0.0822      0.043     -1.931      0.053      -0.166       0.001\n",
      "diabetes              0.0414      0.047      0.886      0.376      -0.050       0.133\n",
      "days_hospitalized     0.0015      0.001      1.919      0.055   -3.21e-05       0.003\n",
      "const                -0.6832      0.050    -13.585      0.000      -0.782      -0.585\n",
      "=====================================================================================\n"
     ]
    }
   ],
   "source": [
    "# BACKWARD ELIMINATION # 8: Seek highest p-value above 0.10 (eliminated high_bp, p-value of 0.459)\n",
    "y = regress_df.arthritis\n",
    "X = regress_df[[\"gender_nonbinary\", \"comp_risk_low\", \"comp_risk_medium\", \"back_pain\", \"diabetes\", \"days_hospitalized\"]].assign(const=1)\n",
    "logit_model=sm.Logit(y,X)\n",
    "result=logit_model.fit()\n",
    "print(result.summary())"
   ]
  },
  {
   "cell_type": "code",
   "execution_count": 46,
   "id": "04a2d726",
   "metadata": {
    "scrolled": false
   },
   "outputs": [
    {
     "name": "stdout",
     "output_type": "stream",
     "text": [
      "Optimization terminated successfully.\n",
      "         Current function value: 0.651233\n",
      "         Iterations 4\n",
      "                           Logit Regression Results                           \n",
      "==============================================================================\n",
      "Dep. Variable:              arthritis   No. Observations:                10000\n",
      "Model:                          Logit   Df Residuals:                     9994\n",
      "Method:                           MLE   Df Model:                            5\n",
      "Date:                Sun, 22 Oct 2023   Pseudo R-squ.:                0.001034\n",
      "Time:                        19:15:01   Log-Likelihood:                -6512.3\n",
      "converged:                       True   LL-Null:                       -6519.1\n",
      "Covariance Type:            nonrobust   LLR p-value:                   0.01923\n",
      "=====================================================================================\n",
      "                        coef    std err          z      P>|z|      [0.025      0.975]\n",
      "-------------------------------------------------------------------------------------\n",
      "gender_nonbinary      0.1803      0.141      1.275      0.202      -0.097       0.457\n",
      "comp_risk_low         0.0739      0.058      1.274      0.203      -0.040       0.188\n",
      "comp_risk_medium      0.1022      0.048      2.142      0.032       0.009       0.196\n",
      "back_pain            -0.0827      0.043     -1.943      0.052      -0.166       0.001\n",
      "days_hospitalized     0.0015      0.001      1.917      0.055   -3.39e-05       0.003\n",
      "const                -0.6716      0.049    -13.833      0.000      -0.767      -0.576\n",
      "=====================================================================================\n"
     ]
    }
   ],
   "source": [
    "# BACKWARD ELIMINATION # 9: Seek highest p-value above 0.10 (eliminated diabetes, p-value of 0.376)\n",
    "y = regress_df.arthritis\n",
    "X = regress_df[[\"gender_nonbinary\", \"comp_risk_low\", \"comp_risk_medium\", \"back_pain\", \"days_hospitalized\"]].assign(const=1)\n",
    "logit_model=sm.Logit(y,X)\n",
    "result=logit_model.fit()\n",
    "print(result.summary())"
   ]
  },
  {
   "cell_type": "code",
   "execution_count": 47,
   "id": "cb84df74",
   "metadata": {},
   "outputs": [
    {
     "name": "stdout",
     "output_type": "stream",
     "text": [
      "Optimization terminated successfully.\n",
      "         Current function value: 0.651314\n",
      "         Iterations 4\n",
      "                           Logit Regression Results                           \n",
      "==============================================================================\n",
      "Dep. Variable:              arthritis   No. Observations:                10000\n",
      "Model:                          Logit   Df Residuals:                     9995\n",
      "Method:                           MLE   Df Model:                            4\n",
      "Date:                Sun, 22 Oct 2023   Pseudo R-squ.:               0.0009100\n",
      "Time:                        19:15:01   Log-Likelihood:                -6513.1\n",
      "converged:                       True   LL-Null:                       -6519.1\n",
      "Covariance Type:            nonrobust   LLR p-value:                   0.01839\n",
      "=====================================================================================\n",
      "                        coef    std err          z      P>|z|      [0.025      0.975]\n",
      "-------------------------------------------------------------------------------------\n",
      "gender_nonbinary      0.1784      0.141      1.262      0.207      -0.099       0.456\n",
      "comp_risk_medium      0.0734      0.042      1.750      0.080      -0.009       0.156\n",
      "back_pain            -0.0817      0.043     -1.922      0.055      -0.165       0.002\n",
      "days_hospitalized     0.0015      0.001      1.937      0.053    -1.8e-05       0.003\n",
      "const                -0.6437      0.043    -14.890      0.000      -0.728      -0.559\n",
      "=====================================================================================\n"
     ]
    }
   ],
   "source": [
    "# BACKWARD ELIMINATION # 10: Seek highest p-value above 0.10 (eliminated comp_risk_low, p-value of 0.203)\n",
    "y = regress_df.arthritis\n",
    "X = regress_df[[\"gender_nonbinary\", \"comp_risk_medium\", \"back_pain\", \"days_hospitalized\"]].assign(const=1)\n",
    "logit_model=sm.Logit(y,X)\n",
    "result=logit_model.fit()\n",
    "print(result.summary())"
   ]
  },
  {
   "cell_type": "code",
   "execution_count": 48,
   "id": "b5c5a43d",
   "metadata": {},
   "outputs": [
    {
     "name": "stdout",
     "output_type": "stream",
     "text": [
      "Optimization terminated successfully.\n",
      "         Current function value: 0.651393\n",
      "         Iterations 4\n",
      "                           Logit Regression Results                           \n",
      "==============================================================================\n",
      "Dep. Variable:              arthritis   No. Observations:                10000\n",
      "Model:                          Logit   Df Residuals:                     9996\n",
      "Method:                           MLE   Df Model:                            3\n",
      "Date:                Sun, 22 Oct 2023   Pseudo R-squ.:               0.0007894\n",
      "Time:                        19:15:01   Log-Likelihood:                -6513.9\n",
      "converged:                       True   LL-Null:                       -6519.1\n",
      "Covariance Type:            nonrobust   LLR p-value:                   0.01624\n",
      "=====================================================================================\n",
      "                        coef    std err          z      P>|z|      [0.025      0.975]\n",
      "-------------------------------------------------------------------------------------\n",
      "comp_risk_medium      0.0732      0.042      1.747      0.081      -0.009       0.155\n",
      "back_pain            -0.0807      0.043     -1.897      0.058      -0.164       0.003\n",
      "days_hospitalized     0.0015      0.001      1.942      0.052   -1.44e-05       0.003\n",
      "const                -0.6403      0.043    -14.843      0.000      -0.725      -0.556\n",
      "=====================================================================================\n"
     ]
    }
   ],
   "source": [
    "# BACKWARD ELIMINATION # 11: Seek highest p-value above 0.10 (eliminated gender_nonbinary, p-value of 0.207)\n",
    "y = regress_df.arthritis\n",
    "X = regress_df[[\"comp_risk_medium\", \"back_pain\", \"days_hospitalized\"]].assign(const=1)\n",
    "logit_model=sm.Logit(y,X)\n",
    "result=logit_model.fit()\n",
    "print(result.summary())"
   ]
  },
  {
   "cell_type": "code",
   "execution_count": 49,
   "id": "af7e710b",
   "metadata": {},
   "outputs": [
    {
     "name": "stdout",
     "output_type": "stream",
     "text": [
      "Optimization terminated successfully.\n",
      "         Current function value: 0.651393\n",
      "         Iterations 4\n",
      "                           Logit Regression Results                           \n",
      "==============================================================================\n",
      "Dep. Variable:              arthritis   No. Observations:                10000\n",
      "Model:                          Logit   Df Residuals:                     9996\n",
      "Method:                           MLE   Df Model:                            3\n",
      "Date:                Sun, 22 Oct 2023   Pseudo R-squ.:               0.0007894\n",
      "Time:                        19:15:01   Log-Likelihood:                -6513.9\n",
      "converged:                       True   LL-Null:                       -6519.1\n",
      "Covariance Type:            nonrobust   LLR p-value:                   0.01624\n",
      "=====================================================================================\n",
      "                        coef    std err          z      P>|z|      [0.025      0.975]\n",
      "-------------------------------------------------------------------------------------\n",
      "comp_risk_medium      0.0732      0.042      1.747      0.081      -0.009       0.155\n",
      "back_pain            -0.0807      0.043     -1.897      0.058      -0.164       0.003\n",
      "days_hospitalized     0.0015      0.001      1.942      0.052   -1.44e-05       0.003\n",
      "const                -0.6403      0.043    -14.843      0.000      -0.725      -0.556\n",
      "=====================================================================================\n"
     ]
    }
   ],
   "source": [
    "# All p-values for independent variables are < 0.10, this is the final reduced model\n",
    "y = regress_df.arthritis\n",
    "X = regress_df[[\"comp_risk_medium\", \"back_pain\", \"days_hospitalized\"]].assign(const=1)\n",
    "logit_model=sm.Logit(y,X)\n",
    "result=logit_model.fit()\n",
    "print(result.summary())"
   ]
  },
  {
   "cell_type": "code",
   "execution_count": 55,
   "id": "895f9772",
   "metadata": {},
   "outputs": [
    {
     "name": "stdout",
     "output_type": "stream",
     "text": [
      "Accuracy of logistic regression classifier on test set: 0.66\n",
      "[[1319    0]\n",
      " [ 681    0]]\n"
     ]
    }
   ],
   "source": [
    "X_train, X_test, y_train, y_test = train_test_split(X, y, test_size=0.2, random_state=42)\n",
    "logreg = LogisticRegression()\n",
    "logreg.fit(X_train, y_train)\n",
    "y_pred = logreg.predict(X_test)\n",
    "print('Accuracy of logistic regression classifier on test set: {:.2f}'.format(logreg.score(X_test, y_test)))\n",
    "final_matrix = confusion_matrix(y_test, y_pred)\n",
    "print(final_matrix)"
   ]
  },
  {
   "cell_type": "code",
   "execution_count": 51,
   "id": "a2528ed3",
   "metadata": {},
   "outputs": [
    {
     "data": {
      "text/plain": [
       "comp_risk_medium     0.073224\n",
       "back_pain           -0.080667\n",
       "days_hospitalized    0.001541\n",
       "const               -0.640284\n",
       "dtype: float64"
      ]
     },
     "execution_count": 51,
     "metadata": {},
     "output_type": "execute_result"
    }
   ],
   "source": [
    "result.params"
   ]
  },
  {
   "cell_type": "code",
   "execution_count": 52,
   "id": "2a74435a",
   "metadata": {},
   "outputs": [
    {
     "name": "stdout",
     "output_type": "stream",
     "text": [
      "The odds ratio for comp_risk_medium is 1.076. Given this, the change in odds for arthritis is 7.597\n",
      "The odds ratio for back_pain is 1.084. Given this, the change in odds for arthritis is 8.401\n",
      "The odds ratio for days_hospitalized is 1.002. Given this, the change in odds for arthritis is 0.154\n"
     ]
    }
   ],
   "source": [
    "# Calculate odds ratios for each coefficient\n",
    "print(f\"The odds ratio for comp_risk_medium is {round(np.exp(0.073224), 3)}. Given this, the change in odds for arthritis is {round((np.exp(0.073224) - 1) * 100, 3)}\")\n",
    "print(f\"The odds ratio for back_pain is {round(np.exp(0.080667), 3)}. Given this, the change in odds for arthritis is {round((np.exp(0.080667) - 1) * 100, 3)}\")\n",
    "print(f\"The odds ratio for days_hospitalized is {round(np.exp (0.001541), 3)}. Given this, the change in odds for arthritis is {round((np.exp( 0.001541) - 1) * 100, 3)}\")"
   ]
  },
  {
   "cell_type": "code",
   "execution_count": null,
   "id": "3bfbf8a8",
   "metadata": {},
   "outputs": [],
   "source": []
  }
 ],
 "metadata": {
  "kernelspec": {
   "display_name": "Python 3 (ipykernel)",
   "language": "python",
   "name": "python3"
  },
  "language_info": {
   "codemirror_mode": {
    "name": "ipython",
    "version": 3
   },
   "file_extension": ".py",
   "mimetype": "text/x-python",
   "name": "python",
   "nbconvert_exporter": "python",
   "pygments_lexer": "ipython3",
   "version": "3.10.5"
  }
 },
 "nbformat": 4,
 "nbformat_minor": 5
}
