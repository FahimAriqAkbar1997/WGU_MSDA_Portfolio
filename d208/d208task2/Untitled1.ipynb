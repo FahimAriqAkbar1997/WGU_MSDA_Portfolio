{
 "cells": [
  {
   "cell_type": "code",
   "execution_count": 1,
   "id": "4ccdd94e",
   "metadata": {},
   "outputs": [],
   "source": [
    "# import packages that will be used for the logistics regression analysis\n",
    "import pylab\n",
    "import seaborn as sb\n",
    "sb.set(style=\"white\")\n",
    "sb.set(style=\"whitegrid\", color_codes=True)\n",
    "import sklearn\n",
    "from sklearn.metrics import confusion_matrix\n",
    "from sklearn import preprocessing\n",
    "from sklearn.decomposition import PCA\n",
    "from sklearn.linear_model import LogisticRegression\n",
    "from sklearn.model_selection import train_test_split\n",
    "from sklearn.metrics import roc_auc_score\n",
    "from sklearn.metrics import roc_curve\n",
    "from sklearn.metrics import classification_report\n",
    "from sklearn import metrics\n",
    "import matplotlib.pyplot as plt\n",
    "plt.rc(\"font\", size=14)\n",
    "import numpy as np\n",
    "import scipy.stats as stats\n",
    "import statsmodels.api as sm\n",
    "import statsmodels.formula.api as smf\n",
    "from IPython.core.display import HTML\n",
    "from IPython.display import display\n",
    "import pandas as pd\n",
    "from pandas import Series, DataFrame\n",
    "from sklearn.metrics import classification_report, confusion_matrix\n",
    "from imblearn.over_sampling import SMOTE"
   ]
  },
  {
   "cell_type": "code",
   "execution_count": 5,
   "id": "118ba834",
   "metadata": {},
   "outputs": [],
   "source": [
    "# import data set that will be used for the logistics regression analysis\n",
    "pd.set_option('display.max_columns', None)\n",
    "df = pd.read_csv (r'C:\\Users\\fahim\\Documents\\0_WGUDocuments\\d208\\1medical_clean.csv')"
   ]
  },
  {
   "cell_type": "code",
   "execution_count": 4,
   "id": "88df3882",
   "metadata": {},
   "outputs": [
    {
     "data": {
      "text/plain": [
       "CaseOrder             False\n",
       "Customer_id           False\n",
       "Interaction           False\n",
       "UID                   False\n",
       "City                  False\n",
       "State                 False\n",
       "County                False\n",
       "Zip                   False\n",
       "Lat                   False\n",
       "Lng                   False\n",
       "Population            False\n",
       "Area                  False\n",
       "TimeZone              False\n",
       "Job                   False\n",
       "Children              False\n",
       "Age                   False\n",
       "Income                False\n",
       "Marital               False\n",
       "Gender                False\n",
       "ReAdmis               False\n",
       "VitD_levels           False\n",
       "Doc_visits            False\n",
       "Full_meals_eaten      False\n",
       "vitD_supp             False\n",
       "Soft_drink            False\n",
       "Initial_admin         False\n",
       "HighBlood             False\n",
       "Stroke                False\n",
       "Complication_risk     False\n",
       "Overweight            False\n",
       "Arthritis             False\n",
       "Diabetes              False\n",
       "Hyperlipidemia        False\n",
       "BackPain              False\n",
       "Anxiety               False\n",
       "Allergic_rhinitis     False\n",
       "Reflux_esophagitis    False\n",
       "Asthma                False\n",
       "Services              False\n",
       "Initial_days          False\n",
       "TotalCharge           False\n",
       "Additional_charges    False\n",
       "Item1                 False\n",
       "Item2                 False\n",
       "Item3                 False\n",
       "Item4                 False\n",
       "Item5                 False\n",
       "Item6                 False\n",
       "Item7                 False\n",
       "Item8                 False\n",
       "dtype: bool"
      ]
     },
     "execution_count": 4,
     "metadata": {},
     "output_type": "execute_result"
    }
   ],
   "source": [
    "# check if there is any missing data entries. Output should be false.\n",
    "df.isna().any()"
   ]
  },
  {
   "cell_type": "code",
   "execution_count": 6,
   "id": "9b377bae",
   "metadata": {},
   "outputs": [
    {
     "name": "stdout",
     "output_type": "stream",
     "text": [
      "<class 'pandas.core.frame.DataFrame'>\n",
      "RangeIndex: 10000 entries, 0 to 9999\n",
      "Data columns (total 20 columns):\n",
      " #   Column              Non-Null Count  Dtype  \n",
      "---  ------              --------------  -----  \n",
      " 0   Children            10000 non-null  int64  \n",
      " 1   Age                 10000 non-null  int64  \n",
      " 2   Income              10000 non-null  float64\n",
      " 3   Gender              10000 non-null  object \n",
      " 4   ReAdmis             10000 non-null  object \n",
      " 5   Doc_visits          10000 non-null  int64  \n",
      " 6   Initial_admin       10000 non-null  object \n",
      " 7   HighBlood           10000 non-null  object \n",
      " 8   Stroke              10000 non-null  object \n",
      " 9   Complication_risk   10000 non-null  object \n",
      " 10  Overweight          10000 non-null  object \n",
      " 11  Arthritis           10000 non-null  object \n",
      " 12  Diabetes            10000 non-null  object \n",
      " 13  Hyperlipidemia      10000 non-null  object \n",
      " 14  BackPain            10000 non-null  object \n",
      " 15  Anxiety             10000 non-null  object \n",
      " 16  Allergic_rhinitis   10000 non-null  object \n",
      " 17  Reflux_esophagitis  10000 non-null  object \n",
      " 18  Asthma              10000 non-null  object \n",
      " 19  Initial_days        10000 non-null  float64\n",
      "dtypes: float64(2), int64(3), object(15)\n",
      "memory usage: 1.5+ MB\n"
     ]
    }
   ],
   "source": [
    "# drop all the columns we don't need for this analysis\n",
    "df.drop(['Item8','Item7','Item6','Item5','Item4','Item3','Item2','Item1','City','State','County','Area','Zip','Lat','Lng','Population','TimeZone','Additional_charges','TotalCharge','Services','Interaction','UID','Customer_id','Job','CaseOrder','Marital','VitD_levels','Full_meals_eaten','vitD_supp','Soft_drink'],axis = 1,inplace=True)\n",
    "# verify that all the columns were dropped before proceeding\n",
    "df.info()"
   ]
  },
  {
   "cell_type": "code",
   "execution_count": 7,
   "id": "b3fafaed",
   "metadata": {},
   "outputs": [
    {
     "data": {
      "text/html": [
       "<div>\n",
       "<style scoped>\n",
       "    .dataframe tbody tr th:only-of-type {\n",
       "        vertical-align: middle;\n",
       "    }\n",
       "\n",
       "    .dataframe tbody tr th {\n",
       "        vertical-align: top;\n",
       "    }\n",
       "\n",
       "    .dataframe thead th {\n",
       "        text-align: right;\n",
       "    }\n",
       "</style>\n",
       "<table border=\"1\" class=\"dataframe\">\n",
       "  <thead>\n",
       "    <tr style=\"text-align: right;\">\n",
       "      <th></th>\n",
       "      <th>Children</th>\n",
       "      <th>Age</th>\n",
       "      <th>Income</th>\n",
       "      <th>Doc_visits</th>\n",
       "      <th>Initial_days</th>\n",
       "    </tr>\n",
       "  </thead>\n",
       "  <tbody>\n",
       "    <tr>\n",
       "      <th>count</th>\n",
       "      <td>10000.000000</td>\n",
       "      <td>10000.000000</td>\n",
       "      <td>10000.000000</td>\n",
       "      <td>10000.000000</td>\n",
       "      <td>10000.000000</td>\n",
       "    </tr>\n",
       "    <tr>\n",
       "      <th>mean</th>\n",
       "      <td>2.097200</td>\n",
       "      <td>53.511700</td>\n",
       "      <td>40490.495160</td>\n",
       "      <td>5.012200</td>\n",
       "      <td>34.455299</td>\n",
       "    </tr>\n",
       "    <tr>\n",
       "      <th>std</th>\n",
       "      <td>2.163659</td>\n",
       "      <td>20.638538</td>\n",
       "      <td>28521.153293</td>\n",
       "      <td>1.045734</td>\n",
       "      <td>26.309341</td>\n",
       "    </tr>\n",
       "    <tr>\n",
       "      <th>min</th>\n",
       "      <td>0.000000</td>\n",
       "      <td>18.000000</td>\n",
       "      <td>154.080000</td>\n",
       "      <td>1.000000</td>\n",
       "      <td>1.001981</td>\n",
       "    </tr>\n",
       "    <tr>\n",
       "      <th>25%</th>\n",
       "      <td>0.000000</td>\n",
       "      <td>36.000000</td>\n",
       "      <td>19598.775000</td>\n",
       "      <td>4.000000</td>\n",
       "      <td>7.896215</td>\n",
       "    </tr>\n",
       "    <tr>\n",
       "      <th>50%</th>\n",
       "      <td>1.000000</td>\n",
       "      <td>53.000000</td>\n",
       "      <td>33768.420000</td>\n",
       "      <td>5.000000</td>\n",
       "      <td>35.836244</td>\n",
       "    </tr>\n",
       "    <tr>\n",
       "      <th>75%</th>\n",
       "      <td>3.000000</td>\n",
       "      <td>71.000000</td>\n",
       "      <td>54296.402500</td>\n",
       "      <td>6.000000</td>\n",
       "      <td>61.161020</td>\n",
       "    </tr>\n",
       "    <tr>\n",
       "      <th>max</th>\n",
       "      <td>10.000000</td>\n",
       "      <td>89.000000</td>\n",
       "      <td>207249.100000</td>\n",
       "      <td>9.000000</td>\n",
       "      <td>71.981490</td>\n",
       "    </tr>\n",
       "  </tbody>\n",
       "</table>\n",
       "</div>"
      ],
      "text/plain": [
       "           Children           Age         Income    Doc_visits  Initial_days\n",
       "count  10000.000000  10000.000000   10000.000000  10000.000000  10000.000000\n",
       "mean       2.097200     53.511700   40490.495160      5.012200     34.455299\n",
       "std        2.163659     20.638538   28521.153293      1.045734     26.309341\n",
       "min        0.000000     18.000000     154.080000      1.000000      1.001981\n",
       "25%        0.000000     36.000000   19598.775000      4.000000      7.896215\n",
       "50%        1.000000     53.000000   33768.420000      5.000000     35.836244\n",
       "75%        3.000000     71.000000   54296.402500      6.000000     61.161020\n",
       "max       10.000000     89.000000  207249.100000      9.000000     71.981490"
      ]
     },
     "execution_count": 7,
     "metadata": {},
     "output_type": "execute_result"
    }
   ],
   "source": [
    "df.describe()"
   ]
  },
  {
   "cell_type": "code",
   "execution_count": 8,
   "id": "cbce5b37",
   "metadata": {},
   "outputs": [],
   "source": [
    "#Create dummies for Gender and the target variable \n",
    "df['gender_dummy'] = [1 if v == 'Female' else 0 for v in df['Gender']]\n",
    "df['ReAdmis_dummy'] = [1 if v == 'Yes' else 0 for v in df['ReAdmis']]"
   ]
  },
  {
   "cell_type": "code",
   "execution_count": 9,
   "id": "156375b7",
   "metadata": {},
   "outputs": [
    {
     "name": "stdout",
     "output_type": "stream",
     "text": [
      "      Children  Age    Income  Gender ReAdmis  Doc_visits  \\\n",
      "0            1   53  86575.93    Male      No           6   \n",
      "1            3   51  46805.99  Female      No           4   \n",
      "2            3   53  14370.14  Female      No           4   \n",
      "3            0   78  39741.49    Male      No           4   \n",
      "4            1   22   1209.56  Female      No           5   \n",
      "...        ...  ...       ...     ...     ...         ...   \n",
      "9995         2   25  45967.61    Male      No           4   \n",
      "9996         4   87  14983.02    Male     Yes           5   \n",
      "9997         3   45  65917.81  Female     Yes           4   \n",
      "9998         3   43  29702.32    Male     Yes           5   \n",
      "9999         8   70  62682.63  Female     Yes           5   \n",
      "\n",
      "              Initial_admin HighBlood Stroke Complication_risk Overweight  \\\n",
      "0       Emergency Admission       Yes     No            Medium         No   \n",
      "1       Emergency Admission       Yes     No              High        Yes   \n",
      "2        Elective Admission       Yes     No            Medium        Yes   \n",
      "3        Elective Admission        No    Yes            Medium         No   \n",
      "4        Elective Admission        No     No               Low         No   \n",
      "...                     ...       ...    ...               ...        ...   \n",
      "9995    Emergency Admission       Yes     No            Medium         No   \n",
      "9996     Elective Admission       Yes     No            Medium        Yes   \n",
      "9997     Elective Admission       Yes     No              High        Yes   \n",
      "9998    Emergency Admission        No     No            Medium        Yes   \n",
      "9999  Observation Admission        No     No               Low        Yes   \n",
      "\n",
      "     Arthritis Diabetes Hyperlipidemia BackPain Anxiety Allergic_rhinitis  \\\n",
      "0          Yes      Yes             No      Yes     Yes               Yes   \n",
      "1           No       No             No       No      No                No   \n",
      "2           No      Yes             No       No      No                No   \n",
      "3          Yes       No             No       No      No                No   \n",
      "4           No       No            Yes       No      No               Yes   \n",
      "...        ...      ...            ...      ...     ...               ...   \n",
      "9995        No       No             No       No     Yes                No   \n",
      "9996       Yes      Yes             No       No      No                No   \n",
      "9997        No       No             No       No     Yes               Yes   \n",
      "9998        No       No             No      Yes      No                No   \n",
      "9999       Yes       No            Yes       No      No               Yes   \n",
      "\n",
      "     Reflux_esophagitis Asthma  Initial_days  gender_dummy  ReAdmis_dummy  \n",
      "0                    No    Yes     10.585770             0              0  \n",
      "1                   Yes     No     15.129562             1              0  \n",
      "2                    No     No      4.772177             1              0  \n",
      "3                   Yes    Yes      1.714879             0              0  \n",
      "4                    No     No      1.254807             1              0  \n",
      "...                 ...    ...           ...           ...            ...  \n",
      "9995                Yes     No     51.561220             0              0  \n",
      "9996                 No    Yes     68.668240             0              1  \n",
      "9997                 No     No     70.154180             1              1  \n",
      "9998                 No     No     63.356900             0              1  \n",
      "9999                 No     No     70.850590             1              1  \n",
      "\n",
      "[10000 rows x 22 columns]\n"
     ]
    }
   ],
   "source": [
    "print(df)"
   ]
  },
  {
   "cell_type": "code",
   "execution_count": 10,
   "id": "c3fbdd66",
   "metadata": {},
   "outputs": [
    {
     "data": {
      "image/png": "[encoded data removed]",
      "text/plain": [
       "<Figure size 432x288 with 6 Axes>"
      ]
     },
     "metadata": {
      "needs_background": "light"
     },
     "output_type": "display_data"
    }
   ],
   "source": [
    "# showcase the univariate distributions\n",
    "df[['Children','Age','Income','Doc_visits','Initial_days']].hist()\n",
    "plt.tight_layout()"
   ]
  },
  {
   "cell_type": "code",
   "execution_count": 11,
   "id": "5715d91e",
   "metadata": {},
   "outputs": [
    {
     "data": {
      "image/png": "[encoded data removed]",
      "text/plain": [
       "<Figure size 432x288 with 1 Axes>"
      ]
     },
     "metadata": {
      "needs_background": "light"
     },
     "output_type": "display_data"
    }
   ],
   "source": [
    "# showcase the bivariate distributions through scatterplots\n",
    "sb.scatterplot(x=df['Children'], y=df['ReAdmis_dummy'], color='green')\n",
    "plt.show();"
   ]
  },
  {
   "cell_type": "code",
   "execution_count": 12,
   "id": "55c917cc",
   "metadata": {},
   "outputs": [
    {
     "data": {
      "image/png": "[encoded data removed]",
      "text/plain": [
       "<Figure size 432x288 with 1 Axes>"
      ]
     },
     "metadata": {
      "needs_background": "light"
     },
     "output_type": "display_data"
    }
   ],
   "source": [
    "sb.scatterplot(x=df['Age'], y=df['ReAdmis_dummy'], color='green')\n",
    "plt.show();"
   ]
  },
  {
   "cell_type": "code",
   "execution_count": 13,
   "id": "f696af05",
   "metadata": {},
   "outputs": [
    {
     "data": {
      "image/png": "[encoded data removed]",
      "text/plain": [
       "<Figure size 432x288 with 1 Axes>"
      ]
     },
     "metadata": {
      "needs_background": "light"
     },
     "output_type": "display_data"
    }
   ],
   "source": [
    "sb.scatterplot(x=df['Income'], y=df['ReAdmis_dummy'], color='green')\n",
    "plt.show();"
   ]
  },
  {
   "cell_type": "code",
   "execution_count": 14,
   "id": "3887a16b",
   "metadata": {},
   "outputs": [
    {
     "data": {
      "image/png": "[encoded data removed]",
      "text/plain": [
       "<Figure size 432x288 with 1 Axes>"
      ]
     },
     "metadata": {
      "needs_background": "light"
     },
     "output_type": "display_data"
    }
   ],
   "source": [
    "sb.scatterplot(x=df['Doc_visits'], y=df['ReAdmis_dummy'], color='green')\n",
    "plt.show();"
   ]
  },
  {
   "cell_type": "code",
   "execution_count": 15,
   "id": "9b840a47",
   "metadata": {},
   "outputs": [
    {
     "data": {
      "image/png": "[encoded data removed]",
      "text/plain": [
       "<Figure size 432x288 with 1 Axes>"
      ]
     },
     "metadata": {
      "needs_background": "light"
     },
     "output_type": "display_data"
    }
   ],
   "source": [
    "sb.scatterplot(x=df['Initial_days'], y=df['ReAdmis_dummy'], color='green')\n",
    "plt.show();"
   ]
  },
  {
   "cell_type": "code",
   "execution_count": 16,
   "id": "49e885fa",
   "metadata": {},
   "outputs": [
    {
     "name": "stdout",
     "output_type": "stream",
     "text": [
      "Optimization terminated successfully.\n",
      "         Current function value: 0.048760\n",
      "         Iterations 13\n",
      "                           Logit Regression Results                           \n",
      "==============================================================================\n",
      "Dep. Variable:          ReAdmis_dummy   No. Observations:                10000\n",
      "Model:                          Logit   Df Residuals:                     9993\n",
      "Method:                           MLE   Df Model:                            6\n",
      "Date:                Sun, 11 Dec 2022   Pseudo R-squ.:                  0.9258\n",
      "Time:                        19:20:16   Log-Likelihood:                -487.60\n",
      "converged:                       True   LL-Null:                       -6572.9\n",
      "Covariance Type:            nonrobust   LLR p-value:                     0.000\n",
      "================================================================================\n",
      "                   coef    std err          z      P>|z|      [0.025      0.975]\n",
      "--------------------------------------------------------------------------------\n",
      "Children         0.0619      0.037      1.675      0.094      -0.011       0.134\n",
      "Age             -0.0001      0.004     -0.035      0.972      -0.008       0.008\n",
      "Income        -1.12e-06   2.94e-06     -0.381      0.704   -6.89e-06    4.65e-06\n",
      "Doc_visits       0.0163      0.077      0.213      0.832      -0.134       0.167\n",
      "Initial_days     0.9891      0.045     21.838      0.000       0.900       1.078\n",
      "gender_dummy    -0.1073      0.165     -0.652      0.515      -0.430       0.215\n",
      "Intercept      -53.8314      2.492    -21.601      0.000     -58.716     -48.947\n",
      "================================================================================\n",
      "\n",
      "Possibly complete quasi-separation: A fraction 0.73 of observations can be\n",
      "perfectly predicted. This might indicate that there is complete\n",
      "quasi-separation. In this case some parameters will not be identified.\n"
     ]
    }
   ],
   "source": [
    "# create the initial logistics model\n",
    "df['Intercept'] = 1\n",
    "log_reg_results = sm.Logit(df[\"ReAdmis_dummy\"], df[['Children','Age','Income','Doc_visits','Initial_days','gender_dummy','Intercept']]).fit()\n",
    "print(log_reg_results.summary())"
   ]
  },
  {
   "cell_type": "code",
   "execution_count": 17,
   "id": "019cf094",
   "metadata": {},
   "outputs": [
    {
     "name": "stdout",
     "output_type": "stream",
     "text": [
      "Optimization terminated successfully.\n",
      "         Current function value: 0.048770\n",
      "         Iterations 13\n",
      "                           Logit Regression Results                           \n",
      "==============================================================================\n",
      "Dep. Variable:          ReAdmis_dummy   No. Observations:                10000\n",
      "Model:                          Logit   Df Residuals:                     9996\n",
      "Method:                           MLE   Df Model:                            3\n",
      "Date:                Sun, 11 Dec 2022   Pseudo R-squ.:                  0.9258\n",
      "Time:                        19:20:23   Log-Likelihood:                -487.70\n",
      "converged:                       True   LL-Null:                       -6572.9\n",
      "Covariance Type:            nonrobust   LLR p-value:                     0.000\n",
      "================================================================================\n",
      "                   coef    std err          z      P>|z|      [0.025      0.975]\n",
      "--------------------------------------------------------------------------------\n",
      "Children         0.0615      0.037      1.668      0.095      -0.011       0.134\n",
      "Initial_days     0.9887      0.045     21.887      0.000       0.900       1.077\n",
      "gender_dummy    -0.1069      0.164     -0.651      0.515      -0.429       0.215\n",
      "Intercept      -53.7810      2.468    -21.792      0.000     -58.618     -48.944\n",
      "================================================================================\n",
      "\n",
      "Possibly complete quasi-separation: A fraction 0.73 of observations can be\n",
      "perfectly predicted. This might indicate that there is complete\n",
      "quasi-separation. In this case some parameters will not be identified.\n"
     ]
    }
   ],
   "source": [
    "# create the reduced logistics model\n",
    "df['Intercept'] = 1\n",
    "log_reg_results2 = sm.Logit(df[\"ReAdmis_dummy\"], df[['Children','Initial_days','gender_dummy','Intercept']]).fit()\n",
    "print(log_reg_results2.summary())"
   ]
  },
  {
   "cell_type": "code",
   "execution_count": 18,
   "id": "a2e3dc77",
   "metadata": {},
   "outputs": [],
   "source": [
    "# create the data frame for the correlation matrix\n",
    "df.to_csv(r'C:\\Users\\fahim\\Documents\\0_WGUDocuments\\d208\\d208_task2_data.csv')"
   ]
  },
  {
   "cell_type": "code",
   "execution_count": 19,
   "id": "10fcb805",
   "metadata": {},
   "outputs": [
    {
     "name": "stdout",
     "output_type": "stream",
     "text": [
      "      Unnamed: 0  Children  Age    Income  Gender ReAdmis  Doc_visits  \\\n",
      "0              0         1   53  86575.93    Male      No           6   \n",
      "1              1         3   51  46805.99  Female      No           4   \n",
      "2              2         3   53  14370.14  Female      No           4   \n",
      "3              3         0   78  39741.49    Male      No           4   \n",
      "4              4         1   22   1209.56  Female      No           5   \n",
      "...          ...       ...  ...       ...     ...     ...         ...   \n",
      "9995        9995         2   25  45967.61    Male      No           4   \n",
      "9996        9996         4   87  14983.02    Male     Yes           5   \n",
      "9997        9997         3   45  65917.81  Female     Yes           4   \n",
      "9998        9998         3   43  29702.32    Male     Yes           5   \n",
      "9999        9999         8   70  62682.63  Female     Yes           5   \n",
      "\n",
      "              Initial_admin HighBlood Stroke Complication_risk Overweight  \\\n",
      "0       Emergency Admission       Yes     No            Medium         No   \n",
      "1       Emergency Admission       Yes     No              High        Yes   \n",
      "2        Elective Admission       Yes     No            Medium        Yes   \n",
      "3        Elective Admission        No    Yes            Medium         No   \n",
      "4        Elective Admission        No     No               Low         No   \n",
      "...                     ...       ...    ...               ...        ...   \n",
      "9995    Emergency Admission       Yes     No            Medium         No   \n",
      "9996     Elective Admission       Yes     No            Medium        Yes   \n",
      "9997     Elective Admission       Yes     No              High        Yes   \n",
      "9998    Emergency Admission        No     No            Medium        Yes   \n",
      "9999  Observation Admission        No     No               Low        Yes   \n",
      "\n",
      "     Arthritis Diabetes Hyperlipidemia BackPain Anxiety Allergic_rhinitis  \\\n",
      "0          Yes      Yes             No      Yes     Yes               Yes   \n",
      "1           No       No             No       No      No                No   \n",
      "2           No      Yes             No       No      No                No   \n",
      "3          Yes       No             No       No      No                No   \n",
      "4           No       No            Yes       No      No               Yes   \n",
      "...        ...      ...            ...      ...     ...               ...   \n",
      "9995        No       No             No       No     Yes                No   \n",
      "9996       Yes      Yes             No       No      No                No   \n",
      "9997        No       No             No       No     Yes               Yes   \n",
      "9998        No       No             No      Yes      No                No   \n",
      "9999       Yes       No            Yes       No      No               Yes   \n",
      "\n",
      "     Reflux_esophagitis Asthma  Initial_days  gender_dummy  ReAdmis_dummy  \\\n",
      "0                    No    Yes     10.585770             0              0   \n",
      "1                   Yes     No     15.129562             1              0   \n",
      "2                    No     No      4.772177             1              0   \n",
      "3                   Yes    Yes      1.714879             0              0   \n",
      "4                    No     No      1.254807             1              0   \n",
      "...                 ...    ...           ...           ...            ...   \n",
      "9995                Yes     No     51.561220             0              0   \n",
      "9996                 No    Yes     68.668240             0              1   \n",
      "9997                 No     No     70.154180             1              1   \n",
      "9998                 No     No     63.356900             0              1   \n",
      "9999                 No     No     70.850590             1              1   \n",
      "\n",
      "      Intercept  \n",
      "0             1  \n",
      "1             1  \n",
      "2             1  \n",
      "3             1  \n",
      "4             1  \n",
      "...         ...  \n",
      "9995          1  \n",
      "9996          1  \n",
      "9997          1  \n",
      "9998          1  \n",
      "9999          1  \n",
      "\n",
      "[10000 rows x 24 columns]\n"
     ]
    }
   ],
   "source": [
    "# create the data frame for the correlation matrix (cont.)\n",
    "newdf = pd.read_csv(r'C:\\Users\\fahim\\Documents\\0_WGUDocuments\\d208\\d208_task2_data.csv')\n",
    "print(newdf)"
   ]
  },
  {
   "cell_type": "code",
   "execution_count": 28,
   "id": "7aecfdd2",
   "metadata": {},
   "outputs": [],
   "source": [
    "# create the correlation matrix\n",
    "matrix_df = pd.read_csv(r'C:\\Users\\fahim\\Documents\\0_WGUDocuments\\d208\\d208_task2_data.csv')\n",
    "\n",
    "matrix_df = matrix_df[['Children','Age','Income','Doc_visits','Initial_days','gender_dummy','Intercept', \"ReAdmis_dummy\"]]\n",
    "\n",
    "X = matrix_df.iloc[:, 1:-1].values\n",
    "y = matrix_df.iloc[:,-1].values"
   ]
  },
  {
   "cell_type": "code",
   "execution_count": 29,
   "id": "9269df26",
   "metadata": {},
   "outputs": [],
   "source": [
    "from sklearn.model_selection import train_test_split\n",
    "X_train, Xtest, y_train, y_test = train_test_split(X, y, test_size = 0.2, random_state = 0)"
   ]
  },
  {
   "cell_type": "code",
   "execution_count": 30,
   "id": "f075e19b",
   "metadata": {},
   "outputs": [
    {
     "data": {
      "text/html": [
       "<style>#sk-container-id-1 {color: black;background-color: white;}#sk-container-id-1 pre{padding: 0;}#sk-container-id-1 div.sk-toggleable {background-color: white;}#sk-container-id-1 label.sk-toggleable__label {cursor: pointer;display: block;width: 100%;margin-bottom: 0;padding: 0.3em;box-sizing: border-box;text-align: center;}#sk-container-id-1 label.sk-toggleable__label-arrow:before {content: \"▸\";float: left;margin-right: 0.25em;color: #696969;}#sk-container-id-1 label.sk-toggleable__label-arrow:hover:before {color: black;}#sk-container-id-1 div.sk-estimator:hover label.sk-toggleable__label-arrow:before {color: black;}#sk-container-id-1 div.sk-toggleable__content {max-height: 0;max-width: 0;overflow: hidden;text-align: left;background-color: #f0f8ff;}#sk-container-id-1 div.sk-toggleable__content pre {margin: 0.2em;color: black;border-radius: 0.25em;background-color: #f0f8ff;}#sk-container-id-1 input.sk-toggleable__control:checked~div.sk-toggleable__content {max-height: 200px;max-width: 100%;overflow: auto;}#sk-container-id-1 input.sk-toggleable__control:checked~label.sk-toggleable__label-arrow:before {content: \"▾\";}#sk-container-id-1 div.sk-estimator input.sk-toggleable__control:checked~label.sk-toggleable__label {background-color: #d4ebff;}#sk-container-id-1 div.sk-label input.sk-toggleable__control:checked~label.sk-toggleable__label {background-color: #d4ebff;}#sk-container-id-1 input.sk-hidden--visually {border: 0;clip: rect(1px 1px 1px 1px);clip: rect(1px, 1px, 1px, 1px);height: 1px;margin: -1px;overflow: hidden;padding: 0;position: absolute;width: 1px;}#sk-container-id-1 div.sk-estimator {font-family: monospace;background-color: #f0f8ff;border: 1px dotted black;border-radius: 0.25em;box-sizing: border-box;margin-bottom: 0.5em;}#sk-container-id-1 div.sk-estimator:hover {background-color: #d4ebff;}#sk-container-id-1 div.sk-parallel-item::after {content: \"\";width: 100%;border-bottom: 1px solid gray;flex-grow: 1;}#sk-container-id-1 div.sk-label:hover label.sk-toggleable__label {background-color: #d4ebff;}#sk-container-id-1 div.sk-serial::before {content: \"\";position: absolute;border-left: 1px solid gray;box-sizing: border-box;top: 0;bottom: 0;left: 50%;z-index: 0;}#sk-container-id-1 div.sk-serial {display: flex;flex-direction: column;align-items: center;background-color: white;padding-right: 0.2em;padding-left: 0.2em;position: relative;}#sk-container-id-1 div.sk-item {position: relative;z-index: 1;}#sk-container-id-1 div.sk-parallel {display: flex;align-items: stretch;justify-content: center;background-color: white;position: relative;}#sk-container-id-1 div.sk-item::before, #sk-container-id-1 div.sk-parallel-item::before {content: \"\";position: absolute;border-left: 1px solid gray;box-sizing: border-box;top: 0;bottom: 0;left: 50%;z-index: -1;}#sk-container-id-1 div.sk-parallel-item {display: flex;flex-direction: column;z-index: 1;position: relative;background-color: white;}#sk-container-id-1 div.sk-parallel-item:first-child::after {align-self: flex-end;width: 50%;}#sk-container-id-1 div.sk-parallel-item:last-child::after {align-self: flex-start;width: 50%;}#sk-container-id-1 div.sk-parallel-item:only-child::after {width: 0;}#sk-container-id-1 div.sk-dashed-wrapped {border: 1px dashed gray;margin: 0 0.4em 0.5em 0.4em;box-sizing: border-box;padding-bottom: 0.4em;background-color: white;}#sk-container-id-1 div.sk-label label {font-family: monospace;font-weight: bold;display: inline-block;line-height: 1.2em;}#sk-container-id-1 div.sk-label-container {text-align: center;}#sk-container-id-1 div.sk-container {/* jupyter's `normalize.less` sets `[hidden] { display: none; }` but bootstrap.min.css set `[hidden] { display: none !important; }` so we also need the `!important` here to be able to override the default hidden behavior on the sphinx rendered scikit-learn.org. See: https://github.com/scikit-learn/scikit-learn/issues/21755 */display: inline-block !important;position: relative;}#sk-container-id-1 div.sk-text-repr-fallback {display: none;}</style><div id=\"sk-container-id-1\" class=\"sk-top-container\"><div class=\"sk-text-repr-fallback\"><pre>LogisticRegression(random_state=0)</pre><b>In a Jupyter environment, please rerun this cell to show the HTML representation or trust the notebook. <br />On GitHub, the HTML representation is unable to render, please try loading this page with nbviewer.org.</b></div><div class=\"sk-container\" hidden><div class=\"sk-item\"><div class=\"sk-estimator sk-toggleable\"><input class=\"sk-toggleable__control sk-hidden--visually\" id=\"sk-estimator-id-1\" type=\"checkbox\" checked><label for=\"sk-estimator-id-1\" class=\"sk-toggleable__label sk-toggleable__label-arrow\">LogisticRegression</label><div class=\"sk-toggleable__content\"><pre>LogisticRegression(random_state=0)</pre></div></div></div></div></div>"
      ],
      "text/plain": [
       "LogisticRegression(random_state=0)"
      ]
     },
     "execution_count": 30,
     "metadata": {},
     "output_type": "execute_result"
    }
   ],
   "source": [
    "from sklearn.linear_model import LogisticRegression\n",
    "classifier = LogisticRegression(random_state = 0)\n",
    "classifier.fit(X_train, y_train)"
   ]
  },
  {
   "cell_type": "code",
   "execution_count": 35,
   "id": "d7e63654",
   "metadata": {},
   "outputs": [
    {
     "ename": "ValueError",
     "evalue": "Classification metrics can't handle a mix of binary and continuous-multioutput targets",
     "output_type": "error",
     "traceback": [
      "\u001b[1;31m---------------------------------------------------------------------------\u001b[0m",
      "\u001b[1;31mValueError\u001b[0m                                Traceback (most recent call last)",
      "Input \u001b[1;32mIn [35]\u001b[0m, in \u001b[0;36m<cell line: 2>\u001b[1;34m()\u001b[0m\n\u001b[0;32m      1\u001b[0m \u001b[38;5;28;01mfrom\u001b[39;00m \u001b[38;5;21;01msklearn\u001b[39;00m\u001b[38;5;21;01m.\u001b[39;00m\u001b[38;5;21;01mmetrics\u001b[39;00m \u001b[38;5;28;01mimport\u001b[39;00m confusion_matrix\n\u001b[1;32m----> 2\u001b[0m matrix \u001b[38;5;241m=\u001b[39m \u001b[43mconfusion_matrix\u001b[49m\u001b[43m(\u001b[49m\u001b[43my_test\u001b[49m\u001b[43m,\u001b[49m\u001b[43m \u001b[49m\u001b[43mXtest\u001b[49m\u001b[43m)\u001b[49m\n",
      "File \u001b[1;32m~\\AppData\\Local\\Programs\\Python\\Python310\\lib\\site-packages\\sklearn\\metrics\\_classification.py:307\u001b[0m, in \u001b[0;36mconfusion_matrix\u001b[1;34m(y_true, y_pred, labels, sample_weight, normalize)\u001b[0m\n\u001b[0;32m    222\u001b[0m \u001b[38;5;28;01mdef\u001b[39;00m \u001b[38;5;21mconfusion_matrix\u001b[39m(\n\u001b[0;32m    223\u001b[0m     y_true, y_pred, \u001b[38;5;241m*\u001b[39m, labels\u001b[38;5;241m=\u001b[39m\u001b[38;5;28;01mNone\u001b[39;00m, sample_weight\u001b[38;5;241m=\u001b[39m\u001b[38;5;28;01mNone\u001b[39;00m, normalize\u001b[38;5;241m=\u001b[39m\u001b[38;5;28;01mNone\u001b[39;00m\n\u001b[0;32m    224\u001b[0m ):\n\u001b[0;32m    225\u001b[0m     \u001b[38;5;124;03m\"\"\"Compute confusion matrix to evaluate the accuracy of a classification.\u001b[39;00m\n\u001b[0;32m    226\u001b[0m \n\u001b[0;32m    227\u001b[0m \u001b[38;5;124;03m    By definition a confusion matrix :math:`C` is such that :math:`C_{i, j}`\u001b[39;00m\n\u001b[1;32m   (...)\u001b[0m\n\u001b[0;32m    305\u001b[0m \u001b[38;5;124;03m    (0, 2, 1, 1)\u001b[39;00m\n\u001b[0;32m    306\u001b[0m \u001b[38;5;124;03m    \"\"\"\u001b[39;00m\n\u001b[1;32m--> 307\u001b[0m     y_type, y_true, y_pred \u001b[38;5;241m=\u001b[39m \u001b[43m_check_targets\u001b[49m\u001b[43m(\u001b[49m\u001b[43my_true\u001b[49m\u001b[43m,\u001b[49m\u001b[43m \u001b[49m\u001b[43my_pred\u001b[49m\u001b[43m)\u001b[49m\n\u001b[0;32m    308\u001b[0m     \u001b[38;5;28;01mif\u001b[39;00m y_type \u001b[38;5;129;01mnot\u001b[39;00m \u001b[38;5;129;01min\u001b[39;00m (\u001b[38;5;124m\"\u001b[39m\u001b[38;5;124mbinary\u001b[39m\u001b[38;5;124m\"\u001b[39m, \u001b[38;5;124m\"\u001b[39m\u001b[38;5;124mmulticlass\u001b[39m\u001b[38;5;124m\"\u001b[39m):\n\u001b[0;32m    309\u001b[0m         \u001b[38;5;28;01mraise\u001b[39;00m \u001b[38;5;167;01mValueError\u001b[39;00m(\u001b[38;5;124m\"\u001b[39m\u001b[38;5;132;01m%s\u001b[39;00m\u001b[38;5;124m is not supported\u001b[39m\u001b[38;5;124m\"\u001b[39m \u001b[38;5;241m%\u001b[39m y_type)\n",
      "File \u001b[1;32m~\\AppData\\Local\\Programs\\Python\\Python310\\lib\\site-packages\\sklearn\\metrics\\_classification.py:93\u001b[0m, in \u001b[0;36m_check_targets\u001b[1;34m(y_true, y_pred)\u001b[0m\n\u001b[0;32m     90\u001b[0m     y_type \u001b[38;5;241m=\u001b[39m {\u001b[38;5;124m\"\u001b[39m\u001b[38;5;124mmulticlass\u001b[39m\u001b[38;5;124m\"\u001b[39m}\n\u001b[0;32m     92\u001b[0m \u001b[38;5;28;01mif\u001b[39;00m \u001b[38;5;28mlen\u001b[39m(y_type) \u001b[38;5;241m>\u001b[39m \u001b[38;5;241m1\u001b[39m:\n\u001b[1;32m---> 93\u001b[0m     \u001b[38;5;28;01mraise\u001b[39;00m \u001b[38;5;167;01mValueError\u001b[39;00m(\n\u001b[0;32m     94\u001b[0m         \u001b[38;5;124m\"\u001b[39m\u001b[38;5;124mClassification metrics can\u001b[39m\u001b[38;5;124m'\u001b[39m\u001b[38;5;124mt handle a mix of \u001b[39m\u001b[38;5;132;01m{0}\u001b[39;00m\u001b[38;5;124m and \u001b[39m\u001b[38;5;132;01m{1}\u001b[39;00m\u001b[38;5;124m targets\u001b[39m\u001b[38;5;124m\"\u001b[39m\u001b[38;5;241m.\u001b[39mformat(\n\u001b[0;32m     95\u001b[0m             type_true, type_pred\n\u001b[0;32m     96\u001b[0m         )\n\u001b[0;32m     97\u001b[0m     )\n\u001b[0;32m     99\u001b[0m \u001b[38;5;66;03m# We can't have more than one value on y_type => The set is no more needed\u001b[39;00m\n\u001b[0;32m    100\u001b[0m y_type \u001b[38;5;241m=\u001b[39m y_type\u001b[38;5;241m.\u001b[39mpop()\n",
      "\u001b[1;31mValueError\u001b[0m: Classification metrics can't handle a mix of binary and continuous-multioutput targets"
     ]
    }
   ],
   "source": []
  },
  {
   "cell_type": "code",
   "execution_count": null,
   "id": "690f37bf",
   "metadata": {},
   "outputs": [],
   "source": []
  }
 ],
 "metadata": {
  "kernelspec": {
   "display_name": "Python 3 (ipykernel)",
   "language": "python",
   "name": "python3"
  },
  "language_info": {
   "codemirror_mode": {
    "name": "ipython",
    "version": 3
   },
   "file_extension": ".py",
   "mimetype": "text/x-python",
   "name": "python",
   "nbconvert_exporter": "python",
   "pygments_lexer": "ipython3",
   "version": "3.10.5"
  }
 },
 "nbformat": 4,
 "nbformat_minor": 5
}
